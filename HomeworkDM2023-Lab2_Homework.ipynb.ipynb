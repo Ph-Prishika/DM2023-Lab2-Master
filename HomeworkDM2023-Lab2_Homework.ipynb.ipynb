{
 "cells": [
  {
   "cell_type": "markdown",
   "id": "c0cfab54",
   "metadata": {},
   "source": [
    "# Student Information\n",
    "Name: Pheiroijam Prishika\n",
    "\n",
    "Student ID:112062891\n",
    "\n",
    "GitHub ID:Ph-Prishika\n",
    "\n",
    "Kaggle name:Prishika_896\n",
    "\n",
    "Kaggle private scoreboard snapshot: <img src='pics/pic0.png.PNG' /> <img src='pics/pic00.png.PNG' />"
   ]
  },
  {
   "cell_type": "code",
   "execution_count": 32,
   "id": "0d3183c3",
   "metadata": {},
   "outputs": [],
   "source": [
    "import pandas as pd\n",
    "\n",
    "anger_train = pd.read_csv(\"C:/Users/picik/emo/anger-ratings-0to1.train.txt\", sep=\"\\t\", header=None, names=[\"id\", \"text\", \"emotion\", \"intensity\"])\n",
    "sadness_train = pd.read_csv(\"C:/Users/picik/emo/fear-ratings-0to1.train.txt\", sep=\"\\t\", header=None, names=[\"id\", \"text\", \"emotion\", \"intensity\"])\n",
    "fear_train = pd.read_csv(\"C:/Users/picik/emo/joy-ratings-0to1.train.txt\", sep=\"\\t\", header=None, names=[\"id\", \"text\", \"emotion\", \"intensity\"])\n",
    "joy_train = pd.read_csv(\"C:/Users/picik/emo/sadness-ratings-0to1.train.txt\", sep=\"\\t\", header=None, names=[\"id\", \"text\", \"emotion\", \"intensity\"])"
   ]
  },
  {
   "cell_type": "code",
   "execution_count": 33,
   "id": "7ad96268",
   "metadata": {},
   "outputs": [
    {
     "name": "stdout",
     "output_type": "stream",
     "text": [
      "Shape of anger  (857, 4)\n",
      "Shape of sadness  (1147, 4)\n",
      "Shape of fear  (823, 4)\n",
      "Shape of joy  (786, 4)\n"
     ]
    }
   ],
   "source": [
    "print(\"Shape of anger \", anger_train.shape)\n",
    "print(\"Shape of sadness \", sadness_train.shape)\n",
    "print(\"Shape of fear \", fear_train.shape)\n",
    "print(\"Shape of joy \", joy_train.shape)"
   ]
  },
  {
   "cell_type": "code",
   "execution_count": 34,
   "id": "26f83955",
   "metadata": {},
   "outputs": [
    {
     "data": {
      "text/html": [
       "<div>\n",
       "<style scoped>\n",
       "    .dataframe tbody tr th:only-of-type {\n",
       "        vertical-align: middle;\n",
       "    }\n",
       "\n",
       "    .dataframe tbody tr th {\n",
       "        vertical-align: top;\n",
       "    }\n",
       "\n",
       "    .dataframe thead th {\n",
       "        text-align: right;\n",
       "    }\n",
       "</style>\n",
       "<table border=\"1\" class=\"dataframe\">\n",
       "  <thead>\n",
       "    <tr style=\"text-align: right;\">\n",
       "      <th></th>\n",
       "      <th>id</th>\n",
       "      <th>text</th>\n",
       "      <th>emotion</th>\n",
       "      <th>intensity</th>\n",
       "    </tr>\n",
       "  </thead>\n",
       "  <tbody>\n",
       "    <tr>\n",
       "      <th>0</th>\n",
       "      <td>10000</td>\n",
       "      <td>How the fu*k! Who the heck! moved my fridge!.....</td>\n",
       "      <td>anger</td>\n",
       "      <td>0.938</td>\n",
       "    </tr>\n",
       "    <tr>\n",
       "      <th>1</th>\n",
       "      <td>10001</td>\n",
       "      <td>So my Indian Uber driver just called someone t...</td>\n",
       "      <td>anger</td>\n",
       "      <td>0.896</td>\n",
       "    </tr>\n",
       "    <tr>\n",
       "      <th>2</th>\n",
       "      <td>10002</td>\n",
       "      <td>@DPD_UK I asked for my parcel to be delivered ...</td>\n",
       "      <td>anger</td>\n",
       "      <td>0.896</td>\n",
       "    </tr>\n",
       "    <tr>\n",
       "      <th>3</th>\n",
       "      <td>10003</td>\n",
       "      <td>so ef whichever butt wipe pulled the fire alar...</td>\n",
       "      <td>anger</td>\n",
       "      <td>0.896</td>\n",
       "    </tr>\n",
       "    <tr>\n",
       "      <th>4</th>\n",
       "      <td>10004</td>\n",
       "      <td>Don't join @BTCare they put the phone down on ...</td>\n",
       "      <td>anger</td>\n",
       "      <td>0.896</td>\n",
       "    </tr>\n",
       "  </tbody>\n",
       "</table>\n",
       "</div>"
      ],
      "text/plain": [
       "      id                                               text emotion  intensity\n",
       "0  10000  How the fu*k! Who the heck! moved my fridge!.....   anger      0.938\n",
       "1  10001  So my Indian Uber driver just called someone t...   anger      0.896\n",
       "2  10002  @DPD_UK I asked for my parcel to be delivered ...   anger      0.896\n",
       "3  10003  so ef whichever butt wipe pulled the fire alar...   anger      0.896\n",
       "4  10004  Don't join @BTCare they put the phone down on ...   anger      0.896"
      ]
     },
     "execution_count": 34,
     "metadata": {},
     "output_type": "execute_result"
    }
   ],
   "source": [
    "# combine 4 sub-dataset\n",
    "train_df = pd.concat([anger_train, fear_train, joy_train, sadness_train], ignore_index=True)\n",
    "train_df.head()"
   ]
  },
  {
   "cell_type": "code",
   "execution_count": 35,
   "id": "dfdbadec",
   "metadata": {},
   "outputs": [
    {
     "data": {
      "text/html": [
       "<div>\n",
       "<style scoped>\n",
       "    .dataframe tbody tr th:only-of-type {\n",
       "        vertical-align: middle;\n",
       "    }\n",
       "\n",
       "    .dataframe tbody tr th {\n",
       "        vertical-align: top;\n",
       "    }\n",
       "\n",
       "    .dataframe thead th {\n",
       "        text-align: right;\n",
       "    }\n",
       "</style>\n",
       "<table border=\"1\" class=\"dataframe\">\n",
       "  <thead>\n",
       "    <tr style=\"text-align: right;\">\n",
       "      <th></th>\n",
       "      <th>id</th>\n",
       "      <th>text</th>\n",
       "      <th>emotion</th>\n",
       "      <th>intensity</th>\n",
       "    </tr>\n",
       "  </thead>\n",
       "  <tbody>\n",
       "    <tr>\n",
       "      <th>0</th>\n",
       "      <td>10000</td>\n",
       "      <td>How the fu*k! Who the heck! moved my fridge!.....</td>\n",
       "      <td>anger</td>\n",
       "      <td>0.938</td>\n",
       "    </tr>\n",
       "    <tr>\n",
       "      <th>1</th>\n",
       "      <td>10001</td>\n",
       "      <td>So my Indian Uber driver just called someone t...</td>\n",
       "      <td>anger</td>\n",
       "      <td>0.896</td>\n",
       "    </tr>\n",
       "    <tr>\n",
       "      <th>2</th>\n",
       "      <td>10002</td>\n",
       "      <td>@DPD_UK I asked for my parcel to be delivered ...</td>\n",
       "      <td>anger</td>\n",
       "      <td>0.896</td>\n",
       "    </tr>\n",
       "    <tr>\n",
       "      <th>3</th>\n",
       "      <td>10003</td>\n",
       "      <td>so ef whichever butt wipe pulled the fire alar...</td>\n",
       "      <td>anger</td>\n",
       "      <td>0.896</td>\n",
       "    </tr>\n",
       "    <tr>\n",
       "      <th>4</th>\n",
       "      <td>10004</td>\n",
       "      <td>Don't join @BTCare they put the phone down on ...</td>\n",
       "      <td>anger</td>\n",
       "      <td>0.896</td>\n",
       "    </tr>\n",
       "  </tbody>\n",
       "</table>\n",
       "</div>"
      ],
      "text/plain": [
       "      id                                               text emotion  intensity\n",
       "0  10000  How the fu*k! Who the heck! moved my fridge!.....   anger      0.938\n",
       "1  10001  So my Indian Uber driver just called someone t...   anger      0.896\n",
       "2  10002  @DPD_UK I asked for my parcel to be delivered ...   anger      0.896\n",
       "3  10003  so ef whichever butt wipe pulled the fire alar...   anger      0.896\n",
       "4  10004  Don't join @BTCare they put the phone down on ...   anger      0.896"
      ]
     },
     "execution_count": 35,
     "metadata": {},
     "output_type": "execute_result"
    }
   ],
   "source": [
    "### testing data\n",
    "anger_test = pd.read_csv(\"C:/Users/picik/emo/test_with/anger-ratings-0to1.dev.gold.txt\",\n",
    "                         sep=\"\\t\", header=None, names=[\"id\", \"text\", \"emotion\", \"intensity\"])\n",
    "sadness_test = pd.read_csv(\"C:/Users/picik/emo/test_with/fear-ratings-0to1.dev.gold.txt\",\n",
    "                         sep=\"\\t\", header=None, names=[\"id\", \"text\", \"emotion\", \"intensity\"])\n",
    "fear_test = pd.read_csv(\"C:/Users/picik/emo/test_with/joy-ratings-0to1.dev.gold.txt\",\n",
    "                         sep=\"\\t\", header=None, names=[\"id\", \"text\", \"emotion\", \"intensity\"])\n",
    "joy_test = pd.read_csv(\"C:/Users/picik/emo/test_with/sadness-ratings-0to1.dev.gold.txt\",\n",
    "                         sep=\"\\t\", header=None, names=[\"id\", \"text\", \"emotion\", \"intensity\"])\n",
    "\n",
    "# combine 4 sub-dataset\n",
    "test_df = pd.concat([anger_test, fear_test, joy_test, sadness_test], ignore_index=True)\n",
    "train_df.head()"
   ]
  },
  {
   "cell_type": "code",
   "execution_count": 36,
   "id": "bb1f0395",
   "metadata": {},
   "outputs": [
    {
     "name": "stdout",
     "output_type": "stream",
     "text": [
      "Shape of anger_test (857, 4)\n",
      "Shape of sadness_test (857, 4)\n",
      "Shape of fear_test (857, 4)\n",
      "Shape of joy_test (857, 4)\n"
     ]
    }
   ],
   "source": [
    "print(\"Shape of anger_test\", anger_train.shape)\n",
    "print(\"Shape of sadness_test\", anger_train.shape)\n",
    "print(\"Shape of fear_test\", anger_train.shape)\n",
    "print(\"Shape of joy_test\", anger_train.shape)"
   ]
  },
  {
   "cell_type": "code",
   "execution_count": 37,
   "id": "d08e205c",
   "metadata": {},
   "outputs": [],
   "source": [
    "# shuffle dataset\n",
    "train_df = train_df.sample(frac=1)\n",
    "test_df = test_df.sample(frac=1)"
   ]
  },
  {
   "cell_type": "code",
   "execution_count": 38,
   "id": "6d2e2bfc",
   "metadata": {},
   "outputs": [
    {
     "name": "stdout",
     "output_type": "stream",
     "text": [
      "Shape of Training df:  (3613, 4)\n",
      "Shape of Testing df:  (347, 4)\n"
     ]
    }
   ],
   "source": [
    "print(\"Shape of Training df: \", train_df.shape)\n",
    "print(\"Shape of Testing df: \", test_df.shape)"
   ]
  },
  {
   "cell_type": "markdown",
   "id": "3e52c699",
   "metadata": {},
   "source": [
    "##** >>> Exercise 1 (Take home): **"
   ]
  },
  {
   "cell_type": "code",
   "execution_count": 39,
   "id": "82f5a178",
   "metadata": {},
   "outputs": [
    {
     "data": {
      "image/png": "[encoded data removed]",
      "text/plain": [
       "<Figure size 1200x600 with 1 Axes>"
      ]
     },
     "metadata": {},
     "output_type": "display_data"
    },
    {
     "data": {
      "image/png": "[encoded data removed]",
      "text/plain": [
       "<Figure size 1200x600 with 1 Axes>"
      ]
     },
     "metadata": {},
     "output_type": "display_data"
    }
   ],
   "source": [
    "##** >>> Exercise 1 (Take home): **\n",
    "import matplotlib.pyplot as plt\n",
    "from sklearn.feature_extraction.text import CountVectorizer\n",
    "\n",
    "# Function to plot word frequency\n",
    "def plot_word_frequency(data, title):\n",
    "    # Create a CountVectorizer to convert text data to word frequencies\n",
    "    vectorizer = CountVectorizer()\n",
    "    X = vectorizer.fit_transform(data['text'])\n",
    "\n",
    "    # Sum the word frequencies\n",
    "    word_frequencies = X.sum(axis=0)\n",
    "\n",
    "    # Get feature names (words)\n",
    "    feature_names = vectorizer.get_feature_names_out()\n",
    "\n",
    "    # Create a DataFrame to store word frequencies and their corresponding words\n",
    "    word_freq_df = pd.DataFrame(list(zip(feature_names, word_frequencies.flat)), columns=['Word', 'Frequency'])\n",
    "\n",
    "    # Sort DataFrame by word frequency in descending order\n",
    "    word_freq_df = word_freq_df.sort_values(by='Frequency', ascending=False)\n",
    "\n",
    "    # Plot the top 30 words\n",
    "    plt.figure(figsize=(12, 6))\n",
    "    plt.bar(word_freq_df['Word'][:30], word_freq_df['Frequency'][:30])\n",
    "    plt.xlabel('Word')\n",
    "    plt.ylabel('Frequency')\n",
    "    plt.title(title)\n",
    "    plt.xticks(rotation=45, ha='right')\n",
    "    plt.show()\n",
    "\n",
    "# Plot word frequency for the top 30 words in the training dataset\n",
    "plot_word_frequency(train_df, 'Word Frequency in Training Dataset')\n",
    "\n",
    "# Plot word frequency for the top 30 words in the testing dataset\n",
    "plot_word_frequency(test_df, 'Word Frequency in Testing Dataset')"
   ]
  },
  {
   "cell_type": "code",
   "execution_count": 40,
   "id": "499c61e7",
   "metadata": {},
   "outputs": [],
   "source": [
    "## save to pickle file\n",
    "train_df.to_pickle(\"train_df.pkl\") \n",
    "test_df.to_pickle(\"test_df.pkl\")"
   ]
  },
  {
   "cell_type": "code",
   "execution_count": 41,
   "id": "a1af19d9",
   "metadata": {},
   "outputs": [],
   "source": [
    "import pandas as pd\n",
    "\n",
    "## load a pickle file\n",
    "train_df = pd.read_pickle(\"train_df.pkl\")\n",
    "test_df = pd.read_pickle(\"test_df.pkl\")"
   ]
  },
  {
   "cell_type": "code",
   "execution_count": 42,
   "id": "3f64a66b",
   "metadata": {},
   "outputs": [
    {
     "data": {
      "text/plain": [
       "emotion\n",
       "anger       857\n",
       "fear       1147\n",
       "joy         823\n",
       "sadness     786\n",
       "Name: text, dtype: int64"
      ]
     },
     "execution_count": 42,
     "metadata": {},
     "output_type": "execute_result"
    }
   ],
   "source": [
    "# group to find distribution\n",
    "train_df.groupby(['emotion']).count()['text']"
   ]
  },
  {
   "cell_type": "code",
   "execution_count": 43,
   "id": "9998ce9d",
   "metadata": {},
   "outputs": [
    {
     "data": {
      "image/png": "[encoded data removed]",
      "text/plain": [
       "<Figure size 500x300 with 1 Axes>"
      ]
     },
     "metadata": {},
     "output_type": "display_data"
    }
   ],
   "source": [
    "%matplotlib inline\n",
    "import numpy as np\n",
    "import matplotlib.pyplot as plt\n",
    "\n",
    "# the histogram of the data\n",
    "labels = train_df['emotion'].unique()\n",
    "post_total = len(train_df)\n",
    "df1 = train_df.groupby(['emotion']).count()['text']\n",
    "df1 = df1.apply(lambda x: round(x*100/post_total,3))\n",
    "\n",
    "#plot\n",
    "fig, ax = plt.subplots(figsize=(5,3))\n",
    "plt.bar(df1.index,df1.values)\n",
    "\n",
    "#arrange\n",
    "plt.ylabel('% of instances')\n",
    "plt.xlabel('Emotion')\n",
    "plt.title('Emotion distribution')\n",
    "plt.grid(True)\n",
    "plt.show()"
   ]
  },
  {
   "cell_type": "code",
   "execution_count": 44,
   "id": "1fa405c0",
   "metadata": {},
   "outputs": [],
   "source": [
    "from sklearn.feature_extraction.text import CountVectorizer\n"
   ]
  },
  {
   "cell_type": "code",
   "execution_count": null,
   "id": "9e831fdc",
   "metadata": {},
   "outputs": [],
   "source": []
  },
  {
   "cell_type": "code",
   "execution_count": 45,
   "id": "7ed86651",
   "metadata": {},
   "outputs": [],
   "source": [
    "# build analyzers (bag-of-words)\n",
    "BOW_vectorizer = CountVectorizer() "
   ]
  },
  {
   "cell_type": "code",
   "execution_count": 46,
   "id": "2a4f1e41",
   "metadata": {},
   "outputs": [],
   "source": [
    "# 1. Learn a vocabulary dictionary of all tokens in the raw documents.\n",
    "BOW_vectorizer.fit(train_df['text'])\n",
    "\n",
    "# 2. Transform documents to document-term matrix.\n",
    "train_data_BOW_features = BOW_vectorizer.transform(train_df['text'])\n",
    "test_data_BOW_features = BOW_vectorizer.transform(test_df['text'])"
   ]
  },
  {
   "cell_type": "code",
   "execution_count": 47,
   "id": "ea16b559",
   "metadata": {},
   "outputs": [
    {
     "data": {
      "text/plain": [
       "<3613x10115 sparse matrix of type '<class 'numpy.int64'>'\n",
       "\twith 51467 stored elements in Compressed Sparse Row format>"
      ]
     },
     "execution_count": 47,
     "metadata": {},
     "output_type": "execute_result"
    }
   ],
   "source": [
    "# check the result\n",
    "train_data_BOW_features"
   ]
  },
  {
   "cell_type": "code",
   "execution_count": 48,
   "id": "7720922f",
   "metadata": {},
   "outputs": [
    {
     "data": {
      "text/plain": [
       "scipy.sparse._csr.csr_matrix"
      ]
     },
     "execution_count": 48,
     "metadata": {},
     "output_type": "execute_result"
    }
   ],
   "source": [
    "type(train_data_BOW_features)"
   ]
  },
  {
   "cell_type": "code",
   "execution_count": 49,
   "id": "f8dc6ebc",
   "metadata": {},
   "outputs": [
    {
     "data": {
      "text/plain": [
       "array([[0, 0, 0, ..., 0, 0, 0],\n",
       "       [0, 0, 0, ..., 0, 0, 0],\n",
       "       [0, 0, 0, ..., 0, 0, 0],\n",
       "       ...,\n",
       "       [0, 0, 0, ..., 0, 0, 0],\n",
       "       [0, 0, 0, ..., 0, 0, 0],\n",
       "       [0, 0, 0, ..., 0, 0, 0]], dtype=int64)"
      ]
     },
     "execution_count": 49,
     "metadata": {},
     "output_type": "execute_result"
    }
   ],
   "source": [
    "# add .toarray() to show\n",
    "train_data_BOW_features.toarray()"
   ]
  },
  {
   "cell_type": "code",
   "execution_count": 50,
   "id": "8471cc3a",
   "metadata": {},
   "outputs": [
    {
     "data": {
      "text/plain": [
       "(3613, 10115)"
      ]
     },
     "execution_count": 50,
     "metadata": {},
     "output_type": "execute_result"
    }
   ],
   "source": [
    "# check the dimension\n",
    "train_data_BOW_features.shape"
   ]
  },
  {
   "cell_type": "code",
   "execution_count": 51,
   "id": "085c9f81",
   "metadata": {},
   "outputs": [
    {
     "data": {
      "text/plain": [
       "array(['2k17', '2much', '2nd', '30', '300', '301', '30am', '30pm', '30s',\n",
       "       '31'], dtype=object)"
      ]
     },
     "execution_count": 51,
     "metadata": {},
     "output_type": "execute_result"
    }
   ],
   "source": [
    "# observe some feature names\n",
    "feature_names = BOW_vectorizer.get_feature_names_out()\n",
    "feature_names[100:110]"
   ]
  },
  {
   "cell_type": "code",
   "execution_count": 52,
   "id": "89c7993c",
   "metadata": {},
   "outputs": [
    {
     "data": {
      "text/plain": [
       "False"
      ]
     },
     "execution_count": 52,
     "metadata": {},
     "output_type": "execute_result"
    }
   ],
   "source": [
    "\"😂\" in feature_names"
   ]
  },
  {
   "cell_type": "code",
   "execution_count": 53,
   "id": "2b51ced2",
   "metadata": {},
   "outputs": [
    {
     "name": "stderr",
     "output_type": "stream",
     "text": [
      "[nltk_data] Downloading package punkt to\n",
      "[nltk_data]     C:\\Users\\picik\\AppData\\Roaming\\nltk_data...\n",
      "[nltk_data]   Package punkt is already up-to-date!\n"
     ]
    },
    {
     "data": {
      "text/plain": [
       "True"
      ]
     },
     "execution_count": 53,
     "metadata": {},
     "output_type": "execute_result"
    }
   ],
   "source": [
    "import nltk\n",
    "nltk.download('punkt')"
   ]
  },
  {
   "cell_type": "code",
   "execution_count": 54,
   "id": "5800d9a9",
   "metadata": {},
   "outputs": [],
   "source": [
    "vectorizer = CountVectorizer(tokenizer=None, token_pattern=r'\\b\\w+\\b')\n"
   ]
  },
  {
   "cell_type": "code",
   "execution_count": 55,
   "id": "bcd4113f",
   "metadata": {},
   "outputs": [
    {
     "name": "stderr",
     "output_type": "stream",
     "text": [
      "C:\\Users\\picik\\anaconda3\\envs\\datamining\\lib\\site-packages\\sklearn\\feature_extraction\\text.py:525: UserWarning: The parameter 'token_pattern' will not be used since 'tokenizer' is not None'\n",
      "  warnings.warn(\n"
     ]
    },
    {
     "data": {
      "text/plain": [
       "(3613, 500)"
      ]
     },
     "execution_count": 55,
     "metadata": {},
     "output_type": "execute_result"
    }
   ],
   "source": [
    "import nltk\n",
    "\n",
    "# build analyzers (bag-of-words)\n",
    "BOW_500 = CountVectorizer(max_features=500, tokenizer=nltk.word_tokenize) \n",
    "\n",
    "# apply analyzer to training data\n",
    "BOW_500.fit(train_df['text'])\n",
    "\n",
    "train_data_BOW_features_500 = BOW_500.transform(train_df['text'])\n",
    "\n",
    "## check dimension\n",
    "train_data_BOW_features_500.shape"
   ]
  },
  {
   "cell_type": "code",
   "execution_count": 56,
   "id": "7a0a5450",
   "metadata": {},
   "outputs": [
    {
     "data": {
      "text/plain": [
       "array([[2, 0, 0, ..., 0, 0, 0],\n",
       "       [0, 1, 0, ..., 0, 0, 0],\n",
       "       [0, 0, 0, ..., 0, 0, 0],\n",
       "       ...,\n",
       "       [0, 0, 0, ..., 0, 0, 0],\n",
       "       [0, 0, 0, ..., 0, 0, 0],\n",
       "       [0, 0, 0, ..., 0, 0, 0]], dtype=int64)"
      ]
     },
     "execution_count": 56,
     "metadata": {},
     "output_type": "execute_result"
    }
   ],
   "source": [
    "train_data_BOW_features_500.toarray()"
   ]
  },
  {
   "cell_type": "code",
   "execution_count": 57,
   "id": "84eb8a9d",
   "metadata": {},
   "outputs": [
    {
     "data": {
      "text/plain": [
       "array(['change', 'cheer', 'cheerful', 'cheerfully', 'cheering', 'cheery',\n",
       "       'come', 'comes', 'could', 'country'], dtype=object)"
      ]
     },
     "execution_count": 57,
     "metadata": {},
     "output_type": "execute_result"
    }
   ],
   "source": [
    "# observe some feature names\n",
    "feature_names_500 = BOW_500.get_feature_names_out()\n",
    "feature_names_500[100:110]"
   ]
  },
  {
   "cell_type": "code",
   "execution_count": 58,
   "id": "e059cb44",
   "metadata": {},
   "outputs": [
    {
     "data": {
      "text/plain": [
       "True"
      ]
     },
     "execution_count": 58,
     "metadata": {},
     "output_type": "execute_result"
    }
   ],
   "source": [
    "\"😂\" in feature_names_500\n"
   ]
  },
  {
   "cell_type": "markdown",
   "id": "ab6f749a",
   "metadata": {},
   "source": [
    "##Home Work 2"
   ]
  },
  {
   "cell_type": "code",
   "execution_count": 59,
   "id": "35eb2e4c",
   "metadata": {},
   "outputs": [
    {
     "name": "stdout",
     "output_type": "stream",
     "text": [
      "Training TF-IDF features shape: (3613, 1000)\n",
      "Feature names [100:110]: ['bitter' 'black' 'blacks' 'blame' 'blessed' 'blood' 'bloody' 'blues'\n",
      " 'body' 'boiling']\n"
     ]
    }
   ],
   "source": [
    "##Home Work 2\n",
    "from sklearn.feature_extraction.text import TfidfVectorizer\n",
    "\n",
    "# Build analyzer (TF-IDF)\n",
    "TFIDF_vectorizer = TfidfVectorizer(max_features=1000)\n",
    "\n",
    "# Learn vocabulary dictionary and inverse document frequency from training data\n",
    "TFIDF_vectorizer.fit(train_df['text'])\n",
    "\n",
    "# Transform training and testing data to TF-IDF features\n",
    "train_data_TFIDF_features = TFIDF_vectorizer.transform(train_df['text'])\n",
    "test_data_TFIDF_features = TFIDF_vectorizer.transform(test_df['text'])\n",
    "\n",
    "# Check the dimension\n",
    "print(\"Training TF-IDF features shape:\", train_data_TFIDF_features.shape)\n",
    "\n",
    "# Observe some feature names\n",
    "feature_names_TFIDF = TFIDF_vectorizer.get_feature_names_out()\n",
    "print(\"Feature names [100:110]:\", feature_names_TFIDF[100:110])\n"
   ]
  },
  {
   "cell_type": "code",
   "execution_count": 60,
   "id": "fd2969e8",
   "metadata": {},
   "outputs": [
    {
     "name": "stdout",
     "output_type": "stream",
     "text": [
      "X_train.shape:  (3613, 500)\n",
      "y_train.shape:  (3613,)\n",
      "X_test.shape:  (347, 500)\n",
      "y_test.shape:  (347,)\n"
     ]
    }
   ],
   "source": [
    "from sklearn.tree import DecisionTreeClassifier\n",
    "\n",
    "# for a classificaiton problem, you need to provide both training & testing data\n",
    "X_train = BOW_500.transform(train_df['text'])\n",
    "y_train = train_df['emotion']\n",
    "\n",
    "X_test = BOW_500.transform(test_df['text'])\n",
    "y_test = test_df['emotion']\n",
    "\n",
    "## take a look at data dimension is a good habit  :)\n",
    "print('X_train.shape: ', X_train.shape)\n",
    "print('y_train.shape: ', y_train.shape)\n",
    "print('X_test.shape: ', X_test.shape)\n",
    "print('y_test.shape: ', y_test.shape)\n"
   ]
  },
  {
   "cell_type": "code",
   "execution_count": 61,
   "id": "08638ffb",
   "metadata": {},
   "outputs": [
    {
     "data": {
      "text/plain": [
       "array(['fear', 'joy', 'anger', 'sadness', 'joy', 'anger', 'joy', 'fear',\n",
       "       'fear', 'fear'], dtype=object)"
      ]
     },
     "execution_count": 61,
     "metadata": {},
     "output_type": "execute_result"
    }
   ],
   "source": [
    "## build DecisionTree model\n",
    "DT_model = DecisionTreeClassifier(random_state=1)\n",
    "\n",
    "## training!\n",
    "DT_model = DT_model.fit(X_train, y_train)\n",
    "\n",
    "## predict!\n",
    "y_train_pred = DT_model.predict(X_train)\n",
    "y_test_pred = DT_model.predict(X_test)\n",
    "\n",
    "## so we get the pred result\n",
    "y_test_pred[:10]"
   ]
  },
  {
   "cell_type": "code",
   "execution_count": 62,
   "id": "307b3b90",
   "metadata": {},
   "outputs": [
    {
     "name": "stdout",
     "output_type": "stream",
     "text": [
      "training accuracy: 0.99\n",
      "testing accuracy: 0.68\n"
     ]
    }
   ],
   "source": [
    "## accuracy\n",
    "from sklearn.metrics import accuracy_score\n",
    "\n",
    "acc_train = accuracy_score(y_true=y_train, y_pred=y_train_pred)\n",
    "acc_test = accuracy_score(y_true=y_test, y_pred=y_test_pred)\n",
    "\n",
    "print('training accuracy: {}'.format(round(acc_train, 2)))\n",
    "print('testing accuracy: {}'.format(round(acc_test, 2)))"
   ]
  },
  {
   "cell_type": "code",
   "execution_count": 63,
   "id": "c552e4ac",
   "metadata": {},
   "outputs": [
    {
     "name": "stdout",
     "output_type": "stream",
     "text": [
      "              precision    recall  f1-score   support\n",
      "\n",
      "       anger       0.66      0.68      0.67        84\n",
      "        fear       0.66      0.69      0.67       110\n",
      "         joy       0.72      0.71      0.71        79\n",
      "     sadness       0.70      0.64      0.67        74\n",
      "\n",
      "    accuracy                           0.68       347\n",
      "   macro avg       0.68      0.68      0.68       347\n",
      "weighted avg       0.68      0.68      0.68       347\n",
      "\n"
     ]
    }
   ],
   "source": [
    "## precision, recall, f1-score,\n",
    "from sklearn.metrics import classification_report\n",
    "\n",
    "print(classification_report(y_true=y_test, y_pred=y_test_pred))"
   ]
  },
  {
   "cell_type": "code",
   "execution_count": 64,
   "id": "dc53a833",
   "metadata": {},
   "outputs": [
    {
     "name": "stdout",
     "output_type": "stream",
     "text": [
      "[[57 18  6  3]\n",
      " [16 76  9  9]\n",
      " [ 6  9 56  8]\n",
      " [ 7 13  7 47]]\n"
     ]
    }
   ],
   "source": [
    "## check by confusion matrix\n",
    "from sklearn.metrics import confusion_matrix\n",
    "\n",
    "cm = confusion_matrix(y_true=y_test, y_pred=y_test_pred) \n",
    "print(cm)"
   ]
  },
  {
   "cell_type": "code",
   "execution_count": 65,
   "id": "09f6b423",
   "metadata": {},
   "outputs": [],
   "source": [
    "# Funciton for visualizing confusion_matrix\n",
    "import matplotlib.pyplot as plt\n",
    "import seaborn as sns\n",
    "import numpy as np\n",
    "import itertools\n",
    "\n",
    "def plot_confusion_matrix(cm, classes, title='Confusion matrix',\n",
    "                          cmap=sns.cubehelix_palette(as_cmap=True)):\n",
    "    \"\"\"\n",
    "    This function is modified from: \n",
    "    http://scikit-learn.org/stable/auto_examples/model_selection/plot_confusion_matrix.html\n",
    "    \"\"\"\n",
    "    classes.sort()\n",
    "    tick_marks = np.arange(len(classes))    \n",
    "    \n",
    "    fig, ax = plt.subplots(figsize=(5,5))\n",
    "    im = ax.imshow(cm, interpolation='nearest', cmap=cmap)\n",
    "    ax.figure.colorbar(im, ax=ax)\n",
    "    ax.set(xticks=np.arange(cm.shape[1]),\n",
    "           yticks=np.arange(cm.shape[0]),\n",
    "           xticklabels = classes,\n",
    "           yticklabels = classes,\n",
    "           title = title,\n",
    "           xlabel = 'True label',\n",
    "           ylabel = 'Predicted label')\n",
    "\n",
    "    fmt = 'd'\n",
    "    thresh = cm.max() / 2.\n",
    "    for i, j in itertools.product(range(cm.shape[0]), range(cm.shape[1])):\n",
    "        plt.text(j, i, format(cm[i, j], fmt), horizontalalignment=\"center\", color=\"white\" if cm[i, j] > thresh else \"black\")\n",
    "    ylim_top = len(classes) - 0.5\n",
    "    plt.ylim([ylim_top, -.5])\n",
    "    plt.tight_layout()\n",
    "    plt.show()"
   ]
  },
  {
   "cell_type": "code",
   "execution_count": 66,
   "id": "e415d049",
   "metadata": {},
   "outputs": [
    {
     "data": {
      "image/png": "[encoded data removed]",
      "text/plain": [
       "<Figure size 500x500 with 2 Axes>"
      ]
     },
     "metadata": {},
     "output_type": "display_data"
    }
   ],
   "source": [
    "# plot your confusion matrix\n",
    "my_tags = ['anger', 'fear', 'joy', 'sadness']\n",
    "plot_confusion_matrix(cm, classes=my_tags, title='Confusion matrix')"
   ]
  },
  {
   "cell_type": "markdown",
   "id": "31e63603",
   "metadata": {},
   "source": []
  },
  {
   "cell_type": "markdown",
   "id": "824a8b40",
   "metadata": {},
   "source": [
    "##HOME WORK 3#\n",
    "The above result is the confusion matrix of the model. The matrix \n",
    "\n",
    "\n",
    "Row 1 (anger):\n",
    "The true label for 57 instances of the \"anger\" class was correctly predicted as \"anger.\"\n",
    "18 instances of \"anger\" were incorrectly predicted as \"fear.\"\n",
    "6 instances of \"anger\" were incorrectly predicted as \"joy.\"\n",
    "3 instances of \"anger\" were incorrectly predicted as \"sadness.\"\n",
    "\n",
    "\n",
    "Row 2 (fear):\n",
    "The true label for 76 instances of the \"fear\" class was correctly predicted as \"fear.\"\n",
    "16 instances of \"fear\" were incorrectly predicted as \"anger.\"\n",
    "9 instances of \"fear\" were incorrectly predicted as \"joy.\"\n",
    "9 instances of \"fear\" were incorrectly predicted as \"sadness.\"\n",
    "\n",
    "\n",
    "Row 3 (joy):\n",
    "The true label for 56 instances of the \"joy\" class was correctly predicted as \"joy.\"\n",
    "6 instances of \"joy\" were incorrectly predicted as \"anger.\"\n",
    "9 instances of \"joy\" were incorrectly predicted as \"fear.\"\n",
    "8 instances of \"joy\" were incorrectly predicted as \"sadness.\"\n",
    "\n",
    "\n",
    "Row 4 (sadness):\n",
    "The true label for 47 instances of the \"sadness\" class was correctly predicted as \"sadness.\"\n",
    "7 instances of \"sadness\" were incorrectly predicted as \"anger.\"\n",
    "13 instances of \"sadness\" were incorrectly predicted as \"fear.\"\n",
    "7 instances of \"sadness\" were incorrectly predicted as \"joy.\""
   ]
  },
  {
   "cell_type": "markdown",
   "id": "f05c50ea",
   "metadata": {},
   "source": [
    "###HOME WORK 4"
   ]
  },
  {
   "cell_type": "code",
   "execution_count": 68,
   "id": "1f75919b",
   "metadata": {},
   "outputs": [
    {
     "name": "stdout",
     "output_type": "stream",
     "text": [
      "Training accuracy (Naive Bayes): 0.87\n",
      "Testing accuracy (Naive Bayes): 0.77\n",
      "\n",
      "Classification Report (Naive Bayes):\n",
      "               precision    recall  f1-score   support\n",
      "\n",
      "       anger       0.79      0.71      0.75        84\n",
      "        fear       0.68      0.91      0.78       110\n",
      "         joy       0.87      0.75      0.80        79\n",
      "     sadness       0.85      0.64      0.73        74\n",
      "\n",
      "    accuracy                           0.77       347\n",
      "   macro avg       0.80      0.75      0.76       347\n",
      "weighted avg       0.79      0.77      0.77       347\n",
      "\n",
      "\n",
      "Confusion Matrix (Naive Bayes):\n",
      " [[ 60  14   6   4]\n",
      " [  8 100   1   1]\n",
      " [  5  12  59   3]\n",
      " [  3  22   2  47]]\n"
     ]
    }
   ],
   "source": [
    "###HOME WORK 4\n",
    "from sklearn.naive_bayes import MultinomialNB\n",
    "from sklearn.feature_extraction.text import TfidfVectorizer\n",
    "from sklearn.metrics import accuracy_score, classification_report, confusion_matrix\n",
    "\n",
    "# 1. Build TF-IDF Vectorizer with 1000 features\n",
    "TFIDF_vectorizer = TfidfVectorizer(max_features=1000)\n",
    "TFIDF_vectorizer.fit(train_df['text'])\n",
    "\n",
    "# 2. Transform training and testing data to TF-IDF features\n",
    "X_train_tfidf = TFIDF_vectorizer.transform(train_df['text'])\n",
    "X_test_tfidf = TFIDF_vectorizer.transform(test_df['text'])\n",
    "\n",
    "# 3. Build Multinomial Naive Bayes model\n",
    "NB_model = MultinomialNB()\n",
    "\n",
    "# 4. Train the model\n",
    "NB_model.fit(X_train_tfidf, train_df['emotion'])\n",
    "\n",
    "# 5. Predict on training and testing data\n",
    "y_train_pred_NB = NB_model.predict(X_train_tfidf)\n",
    "y_test_pred_NB = NB_model.predict(X_test_tfidf)\n",
    "\n",
    "# 6. Evaluate the model\n",
    "# Accuracy\n",
    "acc_train_NB = accuracy_score(y_true=train_df['emotion'], y_pred=y_train_pred_NB)\n",
    "acc_test_NB = accuracy_score(y_true=test_df['emotion'], y_pred=y_test_pred_NB)\n",
    "\n",
    "print('Training accuracy (Naive Bayes): {:.2f}'.format(acc_train_NB))\n",
    "print('Testing accuracy (Naive Bayes): {:.2f}'.format(acc_test_NB))\n",
    "\n",
    "# Classification Report\n",
    "print('\\nClassification Report (Naive Bayes):\\n', classification_report(test_df['emotion'], y_test_pred_NB))\n",
    "\n",
    "# Confusion Matrix\n",
    "cm_NB = confusion_matrix(test_df['emotion'], y_test_pred_NB)\n",
    "print('\\nConfusion Matrix (Naive Bayes):\\n', cm_NB)\n"
   ]
  },
  {
   "cell_type": "code",
   "execution_count": null,
   "id": "314b277d",
   "metadata": {},
   "outputs": [],
   "source": [
    "###HOME WORK 5\n",
    "Naive Bayes Model:\n",
    "Training Accuracy (Naive Bayes): 87%\n",
    "Testing Accuracy (Naive Bayes): 77%\n",
    "\n",
    "Decision Tree Model:\n",
    "Training Accuracy (Decision Tree): 99%\n",
    "Testing Accuracy (Decision Tree): 66%\n",
    "\n",
    "\n",
    "Comparison and Interpretation:\n",
    "\n",
    "Accuracy:\n",
    "Naive Bayes: 77%\n",
    "Decision Tree: 66%\n",
    "The Naive Bayes model performs better in terms of overall accuracy on the testing set.\n",
    "\n",
    "Overfitting:\n",
    "The Decision Tree model has a significantly higher training accuracy (99%) compared to its testing accuracy (66%), indicating potential overfitting. \n",
    "This means that the Decision Tree model may have memorized the training data and performs less well on unseen data.\n",
    "\n",
    "Interpretation:\n",
    "Naive Bayes is a probabilistic model based on Bayes theorem. It assumes independence between features, which may not hold true in all cases but often works well for text classification tasks.\n",
    "Decision Trees create complex decision boundaries and can capture intricate relationships in the data.\n",
    "However, they are prone to overfitting, especially when the depth of the tree is not controlled.\n",
    "\n",
    "Trade-off:\n",
    "Naive Bayes provides a simpler and computationally efficient approach, especially for text data, where the independence assumption may not be a significant drawback.\n",
    "Decision Trees offer more flexibility and can capture complex patterns, but they require careful tuning to avoid overfitting.\n",
    "\n",
    "\n",
    "Naive Bayes model outperforms the Decision Tree model in terms of accuracy on the provided testing set while the later suffers from overfitting.\n",
    "The Naive Bayes models probabilistic approach is well-suited for text classification, and its performance on unseen data is more balanced compared to the Decision Tree model, which exhibits signs of overfitting."
   ]
  },
  {
   "cell_type": "markdown",
   "id": "233a6fe0",
   "metadata": {},
   "source": [
    "##Extra Model using Word2vec with Naive Bayes as classifier"
   ]
  },
  {
   "cell_type": "code",
   "execution_count": 73,
   "id": "afb0e0f9",
   "metadata": {},
   "outputs": [
    {
     "name": "stderr",
     "output_type": "stream",
     "text": [
      "[nltk_data] Downloading package punkt to\n",
      "[nltk_data]     C:\\Users\\picik\\AppData\\Roaming\\nltk_data...\n",
      "[nltk_data]   Package punkt is already up-to-date!\n"
     ]
    },
    {
     "name": "stdout",
     "output_type": "stream",
     "text": [
      "Training Accuracy (Naive Bayes): 0.97\n",
      "Testing Accuracy (Naive Bayes): 0.77\n",
      "              precision    recall  f1-score   support\n",
      "\n",
      "       anger       0.80      0.73      0.76        84\n",
      "        fear       0.69      0.85      0.76       110\n",
      "         joy       0.91      0.73      0.81        79\n",
      "     sadness       0.75      0.74      0.75        74\n",
      "\n",
      "    accuracy                           0.77       347\n",
      "   macro avg       0.79      0.76      0.77       347\n",
      "weighted avg       0.78      0.77      0.77       347\n",
      "\n",
      "Confusion Matrix (Naive Bayes):\n",
      " [[61 14  2  7]\n",
      " [ 8 93  1  8]\n",
      " [ 4 14 58  3]\n",
      " [ 3 13  3 55]]\n"
     ]
    }
   ],
   "source": [
    "##Extra Model using Word2vec with Naive Bayes as classifier\n",
    "import pandas as pd\n",
    "import numpy as np\n",
    "import nltk\n",
    "from nltk.tokenize import word_tokenize\n",
    "from sklearn.feature_extraction.text import CountVectorizer\n",
    "from sklearn.naive_bayes import MultinomialNB\n",
    "from sklearn.metrics import accuracy_score, classification_report, confusion_matrix\n",
    "\n",
    "# Load the training dataset\n",
    "anger_train = pd.read_csv(\"C:/Users/picik/emo/anger-ratings-0to1.train.txt\",\n",
    "                         sep=\"\\t\", header=None, names=[\"id\", \"text\", \"emotion\", \"intensity\"])\n",
    "sadness_train = pd.read_csv(\"C:/Users/picik/emo/sadness-ratings-0to1.train.txt\",\n",
    "                           sep=\"\\t\", header=None, names=[\"id\", \"text\", \"emotion\", \"intensity\"])\n",
    "fear_train = pd.read_csv(\"C:/Users/picik/emo/fear-ratings-0to1.train.txt\",\n",
    "                         sep=\"\\t\", header=None, names=[\"id\", \"text\", \"emotion\", \"intensity\"])\n",
    "joy_train = pd.read_csv(\"C:/Users/picik/emo/joy-ratings-0to1.train.txt\",\n",
    "                        sep=\"\\t\", header=None, names=[\"id\", \"text\", \"emotion\", \"intensity\"])\n",
    "\n",
    "# Combine 4 sub-datasets\n",
    "train_df = pd.concat([anger_train, fear_train, joy_train, sadness_train], ignore_index=True)\n",
    "\n",
    "# Load the testing dataset\n",
    "anger_test = pd.read_csv(\"C:/Users/picik/emo/test_with/anger-ratings-0to1.dev.gold.txt\",\n",
    "                         sep=\"\\t\", header=None, names=[\"id\", \"text\", \"emotion\", \"intensity\"])\n",
    "sadness_test = pd.read_csv(\"C:/Users/picik/emo/test_with/sadness-ratings-0to1.dev.gold.txt\",\n",
    "                           sep=\"\\t\", header=None, names=[\"id\", \"text\", \"emotion\", \"intensity\"])\n",
    "fear_test = pd.read_csv(\"C:/Users/picik/emo/test_with/fear-ratings-0to1.dev.gold.txt\",\n",
    "                         sep=\"\\t\", header=None, names=[\"id\", \"text\", \"emotion\", \"intensity\"])\n",
    "joy_test = pd.read_csv(\"C:/Users/picik/emo/test_with/joy-ratings-0to1.dev.gold.txt\",\n",
    "                        sep=\"\\t\", header=None, names=[\"id\", \"text\", \"emotion\", \"intensity\"])\n",
    "\n",
    "# Combine 4 sub-datasets\n",
    "test_df = pd.concat([anger_test, fear_test, joy_test, sadness_test], ignore_index=True)\n",
    "\n",
    "# Preprocess Text Data\n",
    "nltk.download('punkt')\n",
    "\n",
    "def preprocess_text(text):\n",
    "    tokens = word_tokenize(text)\n",
    "    return ' '.join(tokens)\n",
    "\n",
    "train_df['preprocessed_text'] = train_df['text'].apply(preprocess_text)\n",
    "test_df['preprocessed_text'] = test_df['text'].apply(preprocess_text)\n",
    "\n",
    "# Vectorize text data using CountVectorizer\n",
    "vectorizer = CountVectorizer()\n",
    "X_train_count = vectorizer.fit_transform(train_df['preprocessed_text'])\n",
    "X_test_count = vectorizer.transform(test_df['preprocessed_text'])\n",
    "\n",
    "# Target labels\n",
    "y_train = train_df['emotion']\n",
    "y_test = test_df['emotion']\n",
    "\n",
    "# Train a Multinomial Naive Bayes model\n",
    "nb_model = MultinomialNB()\n",
    "nb_model.fit(X_train_count, y_train)\n",
    "\n",
    "# Predictions\n",
    "y_train_pred_nb = nb_model.predict(X_train_count)\n",
    "y_test_pred_nb = nb_model.predict(X_test_count)\n",
    "\n",
    "# Evaluate the model\n",
    "acc_train_nb = accuracy_score(y_train, y_train_pred_nb)\n",
    "acc_test_nb = accuracy_score(y_test, y_test_pred_nb)\n",
    "\n",
    "print('Training Accuracy (Naive Bayes): {:.2f}'.format(acc_train_nb))\n",
    "print('Testing Accuracy (Naive Bayes): {:.2f}'.format(acc_test_nb))\n",
    "\n",
    "# Classification Report\n",
    "print(classification_report(y_test, y_test_pred_nb))\n",
    "\n",
    "# Confusion Matrix\n",
    "print(\"Confusion Matrix (Naive Bayes):\\n\", confusion_matrix(y_test, y_test_pred_nb))\n"
   ]
  },
  {
   "cell_type": "markdown",
   "id": "fa0ce3c0",
   "metadata": {},
   "source": [
    "Deep Learning"
   ]
  },
  {
   "cell_type": "code",
   "execution_count": 76,
   "id": "16b9ff2f",
   "metadata": {},
   "outputs": [
    {
     "name": "stdout",
     "output_type": "stream",
     "text": [
      "X_train.shape:  (3613, 500)\n",
      "y_train.shape:  (3613,)\n",
      "X_test.shape:  (347, 500)\n",
      "y_test.shape:  (347,)\n"
     ]
    }
   ],
   "source": [
    "import keras\n",
    "\n",
    "# standardize name (X, y) \n",
    "X_train = BOW_500.transform(train_df['text'])\n",
    "y_train = train_df['emotion']\n",
    "\n",
    "X_test = BOW_500.transform(test_df['text'])\n",
    "y_test = test_df['emotion']\n",
    "\n",
    "## check dimension is a good habbit \n",
    "print('X_train.shape: ', X_train.shape)\n",
    "print('y_train.shape: ', y_train.shape)\n",
    "print('X_test.shape: ', X_test.shape)\n",
    "print('y_test.shape: ', y_test.shape)"
   ]
  },
  {
   "cell_type": "code",
   "execution_count": 78,
   "id": "57feb670",
   "metadata": {},
   "outputs": [
    {
     "name": "stdout",
     "output_type": "stream",
     "text": [
      "check label:  ['anger' 'fear' 'joy' 'sadness']\n",
      "\n",
      "## Before convert\n",
      "y_train[0:4]:\n",
      " 0    anger\n",
      "1    anger\n",
      "2    anger\n",
      "3    anger\n",
      "Name: emotion, dtype: object\n",
      "\n",
      "y_train.shape:  (3613,)\n",
      "y_test.shape:  (347,)\n",
      "\n",
      "\n",
      "## After convert\n",
      "y_train[0:4]:\n",
      " [[1. 0. 0. 0.]\n",
      " [1. 0. 0. 0.]\n",
      " [1. 0. 0. 0.]\n",
      " [1. 0. 0. 0.]]\n",
      "\n",
      "y_train.shape:  (3613, 4)\n",
      "y_test.shape:  (347, 4)\n"
     ]
    }
   ],
   "source": [
    "## deal with label (string -> one-hot)\n",
    "\n",
    "from sklearn.preprocessing import LabelEncoder\n",
    "\n",
    "label_encoder = LabelEncoder()\n",
    "label_encoder.fit(y_train)\n",
    "print('check label: ', label_encoder.classes_)\n",
    "print('\\n## Before convert')\n",
    "print('y_train[0:4]:\\n', y_train[0:4])\n",
    "print('\\ny_train.shape: ', y_train.shape)\n",
    "print('y_test.shape: ', y_test.shape)\n",
    "\n",
    "def label_encode(le, labels):\n",
    "    enc = le.transform(labels)\n",
    "    return keras.utils.to_categorical(enc)\n",
    "\n",
    "def label_decode(le, one_hot_label):\n",
    "    dec = np.argmax(one_hot_label, axis=1)\n",
    "    return le.inverse_transform(dec)\n",
    "\n",
    "y_train = label_encode(label_encoder, y_train)\n",
    "y_test = label_encode(label_encoder, y_test)\n",
    "\n",
    "print('\\n\\n## After convert')\n",
    "print('y_train[0:4]:\\n', y_train[0:4])\n",
    "print('\\ny_train.shape: ', y_train.shape)\n",
    "print('y_test.shape: ', y_test.shape)"
   ]
  },
  {
   "cell_type": "code",
   "execution_count": 79,
   "id": "c2fe7253",
   "metadata": {},
   "outputs": [
    {
     "name": "stdout",
     "output_type": "stream",
     "text": [
      "input_shape:  500\n",
      "output_shape:  4\n"
     ]
    }
   ],
   "source": [
    "# I/O check\n",
    "input_shape = X_train.shape[1]\n",
    "print('input_shape: ', input_shape)\n",
    "\n",
    "output_shape = len(label_encoder.classes_)\n",
    "print('output_shape: ', output_shape)"
   ]
  },
  {
   "cell_type": "code",
   "execution_count": 80,
   "id": "fb603fc9",
   "metadata": {},
   "outputs": [
    {
     "name": "stdout",
     "output_type": "stream",
     "text": [
      "Model: \"model\"\n",
      "_________________________________________________________________\n",
      " Layer (type)                Output Shape              Param #   \n",
      "=================================================================\n",
      " input_1 (InputLayer)        [(None, 500)]             0         \n",
      "                                                                 \n",
      " dense (Dense)               (None, 64)                32064     \n",
      "                                                                 \n",
      " re_lu (ReLU)                (None, 64)                0         \n",
      "                                                                 \n",
      " dense_1 (Dense)             (None, 64)                4160      \n",
      "                                                                 \n",
      " re_lu_1 (ReLU)              (None, 64)                0         \n",
      "                                                                 \n",
      " dense_2 (Dense)             (None, 4)                 260       \n",
      "                                                                 \n",
      " softmax (Softmax)           (None, 4)                 0         \n",
      "                                                                 \n",
      "=================================================================\n",
      "Total params: 36,484\n",
      "Trainable params: 36,484\n",
      "Non-trainable params: 0\n",
      "_________________________________________________________________\n"
     ]
    }
   ],
   "source": [
    "from keras.models import Model\n",
    "from keras.layers import Input, Dense\n",
    "from keras.layers import ReLU, Softmax\n",
    "\n",
    "# input layer\n",
    "model_input = Input(shape=(input_shape, ))  # 500\n",
    "X = model_input\n",
    "\n",
    "# 1st hidden layer\n",
    "X_W1 = Dense(units=64)(X)  # 64\n",
    "H1 = ReLU()(X_W1)\n",
    "\n",
    "# 2nd hidden layer\n",
    "H1_W2 = Dense(units=64)(H1)  # 64\n",
    "H2 = ReLU()(H1_W2)\n",
    "\n",
    "# output layer\n",
    "H2_W3 = Dense(units=output_shape)(H2)  # 4\n",
    "H3 = Softmax()(H2_W3)\n",
    "\n",
    "model_output = H3\n",
    "\n",
    "# create model\n",
    "model = Model(inputs=[model_input], outputs=[model_output])\n",
    "\n",
    "# loss function & optimizer\n",
    "model.compile(optimizer='adam',\n",
    "              loss='categorical_crossentropy',\n",
    "              metrics=['accuracy'])\n",
    "\n",
    "# show model construction\n",
    "model.summary()"
   ]
  },
  {
   "cell_type": "code",
   "execution_count": 82,
   "id": "361add6b",
   "metadata": {},
   "outputs": [
    {
     "name": "stdout",
     "output_type": "stream",
     "text": [
      "Epoch 1/25\n",
      "113/113 [==============================] - 0s 2ms/step - loss: 1.0451 - accuracy: 0.6117 - val_loss: 0.9597 - val_accuracy: 0.6513\n",
      "Epoch 2/25\n",
      "113/113 [==============================] - 0s 2ms/step - loss: 0.6123 - accuracy: 0.7744 - val_loss: 0.7996 - val_accuracy: 0.7003\n",
      "Epoch 3/25\n",
      "113/113 [==============================] - 0s 2ms/step - loss: 0.4246 - accuracy: 0.8397 - val_loss: 0.7817 - val_accuracy: 0.6772\n",
      "Epoch 4/25\n",
      "113/113 [==============================] - 0s 2ms/step - loss: 0.3325 - accuracy: 0.8796 - val_loss: 0.8082 - val_accuracy: 0.6744\n",
      "Epoch 5/25\n",
      "113/113 [==============================] - 0s 2ms/step - loss: 0.2664 - accuracy: 0.9067 - val_loss: 0.8646 - val_accuracy: 0.6945\n",
      "Epoch 6/25\n",
      "113/113 [==============================] - 0s 2ms/step - loss: 0.2168 - accuracy: 0.9289 - val_loss: 0.9055 - val_accuracy: 0.6945\n",
      "Epoch 7/25\n",
      "113/113 [==============================] - 0s 2ms/step - loss: 0.1847 - accuracy: 0.9391 - val_loss: 0.9444 - val_accuracy: 0.6801\n",
      "Epoch 8/25\n",
      "113/113 [==============================] - 0s 2ms/step - loss: 0.1538 - accuracy: 0.9532 - val_loss: 1.0267 - val_accuracy: 0.6916\n",
      "Epoch 9/25\n",
      "113/113 [==============================] - 0s 2ms/step - loss: 0.1331 - accuracy: 0.9601 - val_loss: 1.0593 - val_accuracy: 0.6888\n",
      "Epoch 10/25\n",
      "113/113 [==============================] - 0s 2ms/step - loss: 0.1180 - accuracy: 0.9657 - val_loss: 1.0884 - val_accuracy: 0.6830\n",
      "Epoch 11/25\n",
      "113/113 [==============================] - 0s 2ms/step - loss: 0.1098 - accuracy: 0.9684 - val_loss: 1.1301 - val_accuracy: 0.6916\n",
      "Epoch 12/25\n",
      "113/113 [==============================] - 0s 2ms/step - loss: 0.0998 - accuracy: 0.9693 - val_loss: 1.1975 - val_accuracy: 0.6888\n",
      "Epoch 13/25\n",
      "113/113 [==============================] - 0s 2ms/step - loss: 0.0940 - accuracy: 0.9734 - val_loss: 1.2755 - val_accuracy: 0.6801\n",
      "Epoch 14/25\n",
      "113/113 [==============================] - 0s 2ms/step - loss: 0.0915 - accuracy: 0.9718 - val_loss: 1.2586 - val_accuracy: 0.6830\n",
      "Epoch 15/25\n",
      "113/113 [==============================] - 0s 2ms/step - loss: 0.0835 - accuracy: 0.9737 - val_loss: 1.2609 - val_accuracy: 0.6974\n",
      "Epoch 16/25\n",
      "113/113 [==============================] - 0s 2ms/step - loss: 0.0777 - accuracy: 0.9751 - val_loss: 1.2972 - val_accuracy: 0.6801\n",
      "Epoch 17/25\n",
      "113/113 [==============================] - 0s 2ms/step - loss: 0.0740 - accuracy: 0.9768 - val_loss: 1.3284 - val_accuracy: 0.6801\n",
      "Epoch 18/25\n",
      "113/113 [==============================] - 0s 2ms/step - loss: 0.0734 - accuracy: 0.9748 - val_loss: 1.3604 - val_accuracy: 0.6744\n",
      "Epoch 19/25\n",
      "113/113 [==============================] - 0s 2ms/step - loss: 0.0727 - accuracy: 0.9768 - val_loss: 1.4343 - val_accuracy: 0.6859\n",
      "Epoch 20/25\n",
      "113/113 [==============================] - 0s 2ms/step - loss: 0.0689 - accuracy: 0.9787 - val_loss: 1.3884 - val_accuracy: 0.6859\n",
      "Epoch 21/25\n",
      "113/113 [==============================] - 0s 2ms/step - loss: 0.0663 - accuracy: 0.9770 - val_loss: 1.3911 - val_accuracy: 0.6859\n",
      "Epoch 22/25\n",
      "113/113 [==============================] - 0s 2ms/step - loss: 0.0647 - accuracy: 0.9768 - val_loss: 1.4427 - val_accuracy: 0.6830\n",
      "Epoch 23/25\n",
      "113/113 [==============================] - 0s 2ms/step - loss: 0.0679 - accuracy: 0.9776 - val_loss: 1.4502 - val_accuracy: 0.6830\n",
      "Epoch 24/25\n",
      "113/113 [==============================] - 0s 2ms/step - loss: 0.0615 - accuracy: 0.9776 - val_loss: 1.4383 - val_accuracy: 0.6830\n",
      "Epoch 25/25\n",
      "113/113 [==============================] - 0s 2ms/step - loss: 0.0612 - accuracy: 0.9762 - val_loss: 1.4758 - val_accuracy: 0.6801\n",
      "training finish\n"
     ]
    }
   ],
   "source": [
    "from keras.callbacks import CSVLogger\n",
    "\n",
    "csv_logger = CSVLogger('C:/Users/picik/emo/training_log.csv')\n",
    "\n",
    "# training setting\n",
    "epochs = 25\n",
    "batch_size = 32\n",
    "\n",
    "# training!\n",
    "history = model.fit(X_train, y_train, \n",
    "                    epochs=epochs, \n",
    "                    batch_size=batch_size, \n",
    "                    callbacks=[csv_logger],\n",
    "                    validation_data = (X_test, y_test))\n",
    "print('training finish')"
   ]
  },
  {
   "cell_type": "code",
   "execution_count": 83,
   "id": "50118b2b",
   "metadata": {},
   "outputs": [
    {
     "name": "stdout",
     "output_type": "stream",
     "text": [
      "3/3 [==============================] - 0s 2ms/step\n"
     ]
    },
    {
     "data": {
      "text/plain": [
       "array([[3.4437593e-02, 2.8467076e-02, 9.1811645e-01, 1.8978801e-02],\n",
       "       [9.9832731e-01, 1.6071731e-03, 1.6246461e-06, 6.3799474e-05],\n",
       "       [9.6415567e-01, 3.0072629e-02, 3.7996159e-08, 5.7716556e-03],\n",
       "       [9.5138288e-01, 1.0885533e-04, 3.2744966e-02, 1.5763091e-02],\n",
       "       [4.5690695e-03, 9.7513181e-01, 3.7089630e-05, 2.0262040e-02]],\n",
       "      dtype=float32)"
      ]
     },
     "execution_count": 83,
     "metadata": {},
     "output_type": "execute_result"
    }
   ],
   "source": [
    "## predict\n",
    "pred_result = model.predict(X_test, batch_size=128)\n",
    "pred_result[:5]"
   ]
  },
  {
   "cell_type": "code",
   "execution_count": 84,
   "id": "3725ad9e",
   "metadata": {},
   "outputs": [
    {
     "data": {
      "text/plain": [
       "array(['joy', 'anger', 'anger', 'anger', 'fear'], dtype=object)"
      ]
     },
     "execution_count": 84,
     "metadata": {},
     "output_type": "execute_result"
    }
   ],
   "source": [
    "pred_result = label_decode(label_encoder, pred_result)\n",
    "pred_result[:5]"
   ]
  },
  {
   "cell_type": "code",
   "execution_count": 85,
   "id": "c7616688",
   "metadata": {},
   "outputs": [
    {
     "name": "stdout",
     "output_type": "stream",
     "text": [
      "testing accuracy: 0.68\n"
     ]
    }
   ],
   "source": [
    "from sklearn.metrics import accuracy_score\n",
    "\n",
    "print('testing accuracy: {}'.format(round(accuracy_score(label_decode(label_encoder, y_test), pred_result), 2)))"
   ]
  },
  {
   "cell_type": "code",
   "execution_count": 87,
   "id": "6ab89f9e",
   "metadata": {},
   "outputs": [
    {
     "data": {
      "text/html": [
       "<div>\n",
       "<style scoped>\n",
       "    .dataframe tbody tr th:only-of-type {\n",
       "        vertical-align: middle;\n",
       "    }\n",
       "\n",
       "    .dataframe tbody tr th {\n",
       "        vertical-align: top;\n",
       "    }\n",
       "\n",
       "    .dataframe thead th {\n",
       "        text-align: right;\n",
       "    }\n",
       "</style>\n",
       "<table border=\"1\" class=\"dataframe\">\n",
       "  <thead>\n",
       "    <tr style=\"text-align: right;\">\n",
       "      <th></th>\n",
       "      <th>epoch</th>\n",
       "      <th>accuracy</th>\n",
       "      <th>loss</th>\n",
       "      <th>val_accuracy</th>\n",
       "      <th>val_loss</th>\n",
       "    </tr>\n",
       "  </thead>\n",
       "  <tbody>\n",
       "    <tr>\n",
       "      <th>0</th>\n",
       "      <td>0</td>\n",
       "      <td>0.611680</td>\n",
       "      <td>1.045119</td>\n",
       "      <td>0.651297</td>\n",
       "      <td>0.959706</td>\n",
       "    </tr>\n",
       "    <tr>\n",
       "      <th>1</th>\n",
       "      <td>1</td>\n",
       "      <td>0.774426</td>\n",
       "      <td>0.612292</td>\n",
       "      <td>0.700288</td>\n",
       "      <td>0.799563</td>\n",
       "    </tr>\n",
       "    <tr>\n",
       "      <th>2</th>\n",
       "      <td>2</td>\n",
       "      <td>0.839745</td>\n",
       "      <td>0.424587</td>\n",
       "      <td>0.677233</td>\n",
       "      <td>0.781701</td>\n",
       "    </tr>\n",
       "    <tr>\n",
       "      <th>3</th>\n",
       "      <td>3</td>\n",
       "      <td>0.879601</td>\n",
       "      <td>0.332527</td>\n",
       "      <td>0.674352</td>\n",
       "      <td>0.808169</td>\n",
       "    </tr>\n",
       "    <tr>\n",
       "      <th>4</th>\n",
       "      <td>4</td>\n",
       "      <td>0.906726</td>\n",
       "      <td>0.266428</td>\n",
       "      <td>0.694524</td>\n",
       "      <td>0.864607</td>\n",
       "    </tr>\n",
       "    <tr>\n",
       "      <th>5</th>\n",
       "      <td>5</td>\n",
       "      <td>0.928868</td>\n",
       "      <td>0.216787</td>\n",
       "      <td>0.694524</td>\n",
       "      <td>0.905515</td>\n",
       "    </tr>\n",
       "    <tr>\n",
       "      <th>6</th>\n",
       "      <td>6</td>\n",
       "      <td>0.939109</td>\n",
       "      <td>0.184690</td>\n",
       "      <td>0.680115</td>\n",
       "      <td>0.944432</td>\n",
       "    </tr>\n",
       "    <tr>\n",
       "      <th>7</th>\n",
       "      <td>7</td>\n",
       "      <td>0.953224</td>\n",
       "      <td>0.153779</td>\n",
       "      <td>0.691643</td>\n",
       "      <td>1.026662</td>\n",
       "    </tr>\n",
       "    <tr>\n",
       "      <th>8</th>\n",
       "      <td>8</td>\n",
       "      <td>0.960144</td>\n",
       "      <td>0.133066</td>\n",
       "      <td>0.688761</td>\n",
       "      <td>1.059349</td>\n",
       "    </tr>\n",
       "    <tr>\n",
       "      <th>9</th>\n",
       "      <td>9</td>\n",
       "      <td>0.965679</td>\n",
       "      <td>0.118039</td>\n",
       "      <td>0.682997</td>\n",
       "      <td>1.088436</td>\n",
       "    </tr>\n",
       "    <tr>\n",
       "      <th>10</th>\n",
       "      <td>10</td>\n",
       "      <td>0.968447</td>\n",
       "      <td>0.109783</td>\n",
       "      <td>0.691643</td>\n",
       "      <td>1.130145</td>\n",
       "    </tr>\n",
       "    <tr>\n",
       "      <th>11</th>\n",
       "      <td>11</td>\n",
       "      <td>0.969278</td>\n",
       "      <td>0.099811</td>\n",
       "      <td>0.688761</td>\n",
       "      <td>1.197518</td>\n",
       "    </tr>\n",
       "    <tr>\n",
       "      <th>12</th>\n",
       "      <td>12</td>\n",
       "      <td>0.973429</td>\n",
       "      <td>0.094023</td>\n",
       "      <td>0.680115</td>\n",
       "      <td>1.275541</td>\n",
       "    </tr>\n",
       "    <tr>\n",
       "      <th>13</th>\n",
       "      <td>13</td>\n",
       "      <td>0.971769</td>\n",
       "      <td>0.091476</td>\n",
       "      <td>0.682997</td>\n",
       "      <td>1.258588</td>\n",
       "    </tr>\n",
       "    <tr>\n",
       "      <th>14</th>\n",
       "      <td>14</td>\n",
       "      <td>0.973706</td>\n",
       "      <td>0.083453</td>\n",
       "      <td>0.697406</td>\n",
       "      <td>1.260940</td>\n",
       "    </tr>\n",
       "    <tr>\n",
       "      <th>15</th>\n",
       "      <td>15</td>\n",
       "      <td>0.975090</td>\n",
       "      <td>0.077727</td>\n",
       "      <td>0.680115</td>\n",
       "      <td>1.297240</td>\n",
       "    </tr>\n",
       "    <tr>\n",
       "      <th>16</th>\n",
       "      <td>16</td>\n",
       "      <td>0.976751</td>\n",
       "      <td>0.073979</td>\n",
       "      <td>0.680115</td>\n",
       "      <td>1.328412</td>\n",
       "    </tr>\n",
       "    <tr>\n",
       "      <th>17</th>\n",
       "      <td>17</td>\n",
       "      <td>0.974813</td>\n",
       "      <td>0.073421</td>\n",
       "      <td>0.674352</td>\n",
       "      <td>1.360433</td>\n",
       "    </tr>\n",
       "    <tr>\n",
       "      <th>18</th>\n",
       "      <td>18</td>\n",
       "      <td>0.976751</td>\n",
       "      <td>0.072698</td>\n",
       "      <td>0.685879</td>\n",
       "      <td>1.434264</td>\n",
       "    </tr>\n",
       "    <tr>\n",
       "      <th>19</th>\n",
       "      <td>19</td>\n",
       "      <td>0.978688</td>\n",
       "      <td>0.068928</td>\n",
       "      <td>0.685879</td>\n",
       "      <td>1.388366</td>\n",
       "    </tr>\n",
       "    <tr>\n",
       "      <th>20</th>\n",
       "      <td>20</td>\n",
       "      <td>0.977027</td>\n",
       "      <td>0.066270</td>\n",
       "      <td>0.685879</td>\n",
       "      <td>1.391081</td>\n",
       "    </tr>\n",
       "    <tr>\n",
       "      <th>21</th>\n",
       "      <td>21</td>\n",
       "      <td>0.976751</td>\n",
       "      <td>0.064682</td>\n",
       "      <td>0.682997</td>\n",
       "      <td>1.442729</td>\n",
       "    </tr>\n",
       "    <tr>\n",
       "      <th>22</th>\n",
       "      <td>22</td>\n",
       "      <td>0.977581</td>\n",
       "      <td>0.067895</td>\n",
       "      <td>0.682997</td>\n",
       "      <td>1.450238</td>\n",
       "    </tr>\n",
       "    <tr>\n",
       "      <th>23</th>\n",
       "      <td>23</td>\n",
       "      <td>0.977581</td>\n",
       "      <td>0.061463</td>\n",
       "      <td>0.682997</td>\n",
       "      <td>1.438265</td>\n",
       "    </tr>\n",
       "    <tr>\n",
       "      <th>24</th>\n",
       "      <td>24</td>\n",
       "      <td>0.976197</td>\n",
       "      <td>0.061233</td>\n",
       "      <td>0.680115</td>\n",
       "      <td>1.475844</td>\n",
       "    </tr>\n",
       "  </tbody>\n",
       "</table>\n",
       "</div>"
      ],
      "text/plain": [
       "    epoch  accuracy      loss  val_accuracy  val_loss\n",
       "0       0  0.611680  1.045119      0.651297  0.959706\n",
       "1       1  0.774426  0.612292      0.700288  0.799563\n",
       "2       2  0.839745  0.424587      0.677233  0.781701\n",
       "3       3  0.879601  0.332527      0.674352  0.808169\n",
       "4       4  0.906726  0.266428      0.694524  0.864607\n",
       "5       5  0.928868  0.216787      0.694524  0.905515\n",
       "6       6  0.939109  0.184690      0.680115  0.944432\n",
       "7       7  0.953224  0.153779      0.691643  1.026662\n",
       "8       8  0.960144  0.133066      0.688761  1.059349\n",
       "9       9  0.965679  0.118039      0.682997  1.088436\n",
       "10     10  0.968447  0.109783      0.691643  1.130145\n",
       "11     11  0.969278  0.099811      0.688761  1.197518\n",
       "12     12  0.973429  0.094023      0.680115  1.275541\n",
       "13     13  0.971769  0.091476      0.682997  1.258588\n",
       "14     14  0.973706  0.083453      0.697406  1.260940\n",
       "15     15  0.975090  0.077727      0.680115  1.297240\n",
       "16     16  0.976751  0.073979      0.680115  1.328412\n",
       "17     17  0.974813  0.073421      0.674352  1.360433\n",
       "18     18  0.976751  0.072698      0.685879  1.434264\n",
       "19     19  0.978688  0.068928      0.685879  1.388366\n",
       "20     20  0.977027  0.066270      0.685879  1.391081\n",
       "21     21  0.976751  0.064682      0.682997  1.442729\n",
       "22     22  0.977581  0.067895      0.682997  1.450238\n",
       "23     23  0.977581  0.061463      0.682997  1.438265\n",
       "24     24  0.976197  0.061233      0.680115  1.475844"
      ]
     },
     "execution_count": 87,
     "metadata": {},
     "output_type": "execute_result"
    }
   ],
   "source": [
    "#Let's take a look at the training log\n",
    "training_log = pd.DataFrame()\n",
    "training_log = pd.read_csv(\"C:/Users/picik/emo/training_log.csv\")\n",
    "training_log"
   ]
  },
  {
   "cell_type": "markdown",
   "id": "3378b2d2",
   "metadata": {},
   "source": [
    "##HOME WORK 6"
   ]
  },
  {
   "cell_type": "code",
   "execution_count": 88,
   "id": "2fbb339b",
   "metadata": {},
   "outputs": [
    {
     "data": {
      "image/png": "[encoded data removed]",
      "text/plain": [
       "<Figure size 1200x400 with 2 Axes>"
      ]
     },
     "metadata": {},
     "output_type": "display_data"
    }
   ],
   "source": [
    "##HOME WORK 6\n",
    "import matplotlib.pyplot as plt\n",
    "\n",
    "# Extracting training history\n",
    "acc = history.history['accuracy']\n",
    "val_acc = history.history['val_accuracy']\n",
    "loss = history.history['loss']\n",
    "val_loss = history.history['val_loss']\n",
    "epochs = range(1, len(acc) + 1)\n",
    "\n",
    "# Plotting accuracy\n",
    "plt.figure(figsize=(12, 4))\n",
    "plt.subplot(1, 2, 1)\n",
    "plt.plot(epochs, acc, 'b', label='Training acc')\n",
    "plt.plot(epochs, val_acc, 'r', label='Validation acc')\n",
    "plt.title('Training and validation accuracy')\n",
    "plt.xlabel('Epochs')\n",
    "plt.ylabel('Accuracy')\n",
    "plt.legend()\n",
    "\n",
    "# Plotting loss\n",
    "plt.subplot(1, 2, 2)\n",
    "plt.plot(epochs, loss, 'b', label='Training loss')\n",
    "plt.plot(epochs, val_loss, 'r', label='Validation loss')\n",
    "plt.title('Training and validation loss')\n",
    "plt.xlabel('Epochs')\n",
    "plt.ylabel('Loss')\n",
    "plt.legend()\n",
    "\n",
    "plt.show()\n"
   ]
  },
  {
   "cell_type": "markdown",
   "id": "0f63befb",
   "metadata": {},
   "source": [
    "##HOME WORK 2 Continue\n",
    "the two subplots: one for accuracy and another for loss. The blue lines represent the training set, and the red lines represent the validation set.\n",
    "\n",
    "Interpretation:\n",
    "\n",
    "Accuracy Plot: It shows how well the model is learning over epochs.\n",
    "    If training accuracy increases while validation accuracy remains stagnant or decreases, it might be a sign of overfitting, where the model is fitting too closely to the training data.\n",
    "\n",
    "Loss Plot: It shows how well the model is minimizing its error during training and validation. \n",
    "    A decreasing training loss is expected, but if validation loss starts increasing while training loss keeps decreasing, it may indicate overfitting.\n",
    "\n",
    "Overfitting/Underfitting:\n",
    "\n",
    "Overfitting: This occurs when the model performs well on the training set but poorly on the validation set. \n",
    "    In the accuracy plot, you may see a large gap between the training and validation accuracy. \n",
    "    In the loss plot, the training loss continues to decrease, but the validation loss starts to increase.\n",
    "\n",
    "Underfitting: This occurs when the model doesn't learn well from the training set, resulting in low accuracy and high loss for both training and validation sets.\n",
    "\n",
    "In your specific case, it looks like there might be some overfitting, as the training accuracy is increasing, but the validation accuracy is not improving significantly, and the validation loss is increasing. \n",
    "You might need to consider strategies to reduce overfitting, such as regularization or adjusting the model architecture."
   ]
  },
  {
   "cell_type": "code",
   "execution_count": null,
   "id": "bb843353",
   "metadata": {},
   "outputs": [],
   "source": []
  },
  {
   "cell_type": "code",
   "execution_count": 91,
   "id": "2f9ed10d",
   "metadata": {},
   "outputs": [
    {
     "name": "stdout",
     "output_type": "stream",
     "text": [
      "Collecting gensim\n",
      "  Downloading gensim-4.3.2-cp39-cp39-win_amd64.whl.metadata (8.5 kB)\n",
      "Requirement already satisfied: numpy>=1.18.5 in c:\\users\\picik\\anaconda3\\envs\\datamining\\lib\\site-packages (from gensim) (1.26.0)\n",
      "Requirement already satisfied: scipy>=1.7.0 in c:\\users\\picik\\anaconda3\\envs\\datamining\\lib\\site-packages (from gensim) (1.11.3)\n",
      "Collecting smart-open>=1.8.1 (from gensim)\n",
      "  Downloading smart_open-6.4.0-py3-none-any.whl.metadata (21 kB)\n",
      "Downloading gensim-4.3.2-cp39-cp39-win_amd64.whl (24.0 MB)\n",
      "   ---------------------------------------- 0.0/24.0 MB ? eta -:--:--\n",
      "   ---------------------------------------- 0.1/24.0 MB 3.6 MB/s eta 0:00:07\n",
      "   - -------------------------------------- 0.7/24.0 MB 8.3 MB/s eta 0:00:03\n",
      "   - -------------------------------------- 1.0/24.0 MB 11.1 MB/s eta 0:00:03\n",
      "   - -------------------------------------- 1.0/24.0 MB 11.1 MB/s eta 0:00:03\n",
      "   - -------------------------------------- 1.0/24.0 MB 11.1 MB/s eta 0:00:03\n",
      "   - -------------------------------------- 1.0/24.0 MB 11.1 MB/s eta 0:00:03\n",
      "   - -------------------------------------- 1.0/24.0 MB 11.1 MB/s eta 0:00:03\n",
      "   --- ------------------------------------ 2.1/24.0 MB 5.7 MB/s eta 0:00:04\n",
      "   ----- ---------------------------------- 3.0/24.0 MB 7.4 MB/s eta 0:00:03\n",
      "   ------ --------------------------------- 4.1/24.0 MB 9.1 MB/s eta 0:00:03\n",
      "   -------- ------------------------------- 5.3/24.0 MB 10.6 MB/s eta 0:00:02\n",
      "   --------------- ------------------------ 9.1/24.0 MB 16.6 MB/s eta 0:00:01\n",
      "   ---------------------- ----------------- 13.6/24.0 MB 65.2 MB/s eta 0:00:01\n",
      "   ---------------------- ----------------- 13.6/24.0 MB 65.2 MB/s eta 0:00:01\n",
      "   ---------------------- ----------------- 13.6/24.0 MB 65.2 MB/s eta 0:00:01\n",
      "   ---------------------- ----------------- 13.6/24.0 MB 65.2 MB/s eta 0:00:01\n",
      "   ------------------------ --------------- 14.5/24.0 MB 31.2 MB/s eta 0:00:01\n",
      "   -------------------------------- ------- 19.4/24.0 MB 38.5 MB/s eta 0:00:01\n",
      "   ---------------------------------------  23.6/24.0 MB 34.4 MB/s eta 0:00:01\n",
      "   ---------------------------------------  24.0/24.0 MB 93.0 MB/s eta 0:00:01\n",
      "   ---------------------------------------- 24.0/24.0 MB 54.4 MB/s eta 0:00:00\n",
      "Downloading smart_open-6.4.0-py3-none-any.whl (57 kB)\n",
      "   ---------------------------------------- 0.0/57.0 kB ? eta -:--:--\n",
      "   ---------------------------------------- 57.0/57.0 kB 2.9 MB/s eta 0:00:00\n",
      "Installing collected packages: smart-open, gensim\n",
      "Successfully installed gensim-4.3.2 smart-open-6.4.0\n",
      "Note: you may need to restart the kernel to use updated packages.\n"
     ]
    }
   ],
   "source": [
    "pip install gensim"
   ]
  },
  {
   "cell_type": "code",
   "execution_count": 92,
   "id": "73422d98",
   "metadata": {},
   "outputs": [
    {
     "data": {
      "text/html": [
       "<div>\n",
       "<style scoped>\n",
       "    .dataframe tbody tr th:only-of-type {\n",
       "        vertical-align: middle;\n",
       "    }\n",
       "\n",
       "    .dataframe tbody tr th {\n",
       "        vertical-align: top;\n",
       "    }\n",
       "\n",
       "    .dataframe thead th {\n",
       "        text-align: right;\n",
       "    }\n",
       "</style>\n",
       "<table border=\"1\" class=\"dataframe\">\n",
       "  <thead>\n",
       "    <tr style=\"text-align: right;\">\n",
       "      <th></th>\n",
       "      <th>id</th>\n",
       "      <th>text</th>\n",
       "      <th>text_tokenized</th>\n",
       "    </tr>\n",
       "  </thead>\n",
       "  <tbody>\n",
       "    <tr>\n",
       "      <th>0</th>\n",
       "      <td>10000</td>\n",
       "      <td>How the fu*k! Who the heck! moved my fridge!.....</td>\n",
       "      <td>[How, the, fu, *, k, !, Who, the, heck, !, mov...</td>\n",
       "    </tr>\n",
       "    <tr>\n",
       "      <th>1</th>\n",
       "      <td>10001</td>\n",
       "      <td>So my Indian Uber driver just called someone t...</td>\n",
       "      <td>[So, my, Indian, Uber, driver, just, called, s...</td>\n",
       "    </tr>\n",
       "    <tr>\n",
       "      <th>2</th>\n",
       "      <td>10002</td>\n",
       "      <td>@DPD_UK I asked for my parcel to be delivered ...</td>\n",
       "      <td>[@, DPD_UK, I, asked, for, my, parcel, to, be,...</td>\n",
       "    </tr>\n",
       "    <tr>\n",
       "      <th>3</th>\n",
       "      <td>10003</td>\n",
       "      <td>so ef whichever butt wipe pulled the fire alar...</td>\n",
       "      <td>[so, ef, whichever, butt, wipe, pulled, the, f...</td>\n",
       "    </tr>\n",
       "    <tr>\n",
       "      <th>4</th>\n",
       "      <td>10004</td>\n",
       "      <td>Don't join @BTCare they put the phone down on ...</td>\n",
       "      <td>[Do, n't, join, @, BTCare, they, put, the, pho...</td>\n",
       "    </tr>\n",
       "  </tbody>\n",
       "</table>\n",
       "</div>"
      ],
      "text/plain": [
       "      id                                               text  \\\n",
       "0  10000  How the fu*k! Who the heck! moved my fridge!.....   \n",
       "1  10001  So my Indian Uber driver just called someone t...   \n",
       "2  10002  @DPD_UK I asked for my parcel to be delivered ...   \n",
       "3  10003  so ef whichever butt wipe pulled the fire alar...   \n",
       "4  10004  Don't join @BTCare they put the phone down on ...   \n",
       "\n",
       "                                      text_tokenized  \n",
       "0  [How, the, fu, *, k, !, Who, the, heck, !, mov...  \n",
       "1  [So, my, Indian, Uber, driver, just, called, s...  \n",
       "2  [@, DPD_UK, I, asked, for, my, parcel, to, be,...  \n",
       "3  [so, ef, whichever, butt, wipe, pulled, the, f...  \n",
       "4  [Do, n't, join, @, BTCare, they, put, the, pho...  "
      ]
     },
     "execution_count": 92,
     "metadata": {},
     "output_type": "execute_result"
    }
   ],
   "source": [
    "## check library\n",
    "import gensim\n",
    "\n",
    "## ignore warnings\n",
    "import warnings\n",
    "warnings.filterwarnings('ignore')\n",
    "\n",
    "# # if you want to see the training messages, you can use it\n",
    "# import logging\n",
    "# logging.basicConfig(format='%(asctime)s : %(levelname)s : %(message)s', level=logging.INFO)\n",
    "\n",
    "## the input type\n",
    "train_df['text_tokenized'] = train_df['text'].apply(lambda x: nltk.word_tokenize(x))\n",
    "train_df[['id', 'text', 'text_tokenized']].head()"
   ]
  },
  {
   "cell_type": "code",
   "execution_count": 93,
   "id": "c590b1d4",
   "metadata": {},
   "outputs": [
    {
     "data": {
      "text/plain": [
       "array([list(['How', 'the', 'fu', '*', 'k', '!', 'Who', 'the', 'heck', '!', 'moved', 'my', 'fridge', '!', '...', 'should', 'I', 'knock', 'the', 'landlord', 'door', '.', '#', 'angry', '#', 'mad', '#', '#']),\n",
       "       list(['So', 'my', 'Indian', 'Uber', 'driver', 'just', 'called', 'someone', 'the', 'N', 'word', '.', 'If', 'I', 'was', \"n't\", 'in', 'a', 'moving', 'vehicle', 'I', \"'d\", 'have', 'jumped', 'out', '#', 'disgusted']),\n",
       "       list(['@', 'DPD_UK', 'I', 'asked', 'for', 'my', 'parcel', 'to', 'be', 'delivered', 'to', 'a', 'pick', 'up', 'store', 'not', 'my', 'address', '#', 'fuming', '#', 'poorcustomerservice'])],\n",
       "      dtype=object)"
      ]
     },
     "execution_count": 93,
     "metadata": {},
     "output_type": "execute_result"
    }
   ],
   "source": [
    "## create the training corpus\n",
    "training_corpus = train_df['text_tokenized'].values\n",
    "training_corpus[:3]"
   ]
  },
  {
   "cell_type": "code",
   "execution_count": 95,
   "id": "6a69d5b4",
   "metadata": {},
   "outputs": [],
   "source": [
    "from gensim.models import Word2Vec\n",
    "\n",
    "## setting\n",
    "vector_dim = 100\n",
    "window_size = 5\n",
    "min_count = 1\n",
    "training_epochs = 20\n",
    "\n",
    "## model\n",
    "word2vec_model = Word2Vec(sentences=training_corpus, \n",
    "                          vector_size=vector_dim, window=window_size, \n",
    "                          min_count=min_count, epochs=training_epochs)"
   ]
  },
  {
   "cell_type": "code",
   "execution_count": 96,
   "id": "25c0eb6d",
   "metadata": {},
   "outputs": [
    {
     "data": {
      "text/plain": [
       "array([ 0.444028  ,  0.39195058, -0.10827123,  0.42123252, -0.19051228,\n",
       "       -0.95007116,  0.6670616 ,  1.4457656 , -0.30568987, -0.30255064,\n",
       "       -0.6558931 , -0.5688687 , -0.5686394 ,  0.28350446,  0.05102655,\n",
       "       -0.25717506,  0.6537253 , -0.42133352,  0.2501249 , -1.2118628 ,\n",
       "        0.46860087,  0.8810014 ,  0.69136405, -0.40695253, -0.01940935,\n",
       "        0.56307846, -0.59577125,  0.16299526, -0.40682346,  0.34764975,\n",
       "        0.06588694,  0.0569654 ,  0.73091865, -0.5546376 , -0.10929753,\n",
       "        0.5076269 ,  0.30512553, -0.14657518, -0.7671512 , -0.08250272,\n",
       "        0.2072049 , -0.37050033, -0.12019023,  0.08017329,  0.47376806,\n",
       "       -0.34647596, -0.61762613, -0.27547988,  0.51080656, -0.16500749,\n",
       "       -0.04796204, -0.2601364 , -0.24148044, -0.01782642, -0.66078097,\n",
       "        0.11771303,  0.11307068,  0.05110788,  0.04547747, -0.09526108,\n",
       "        0.25155303, -0.41108763,  0.70048934,  0.49731517, -0.6386967 ,\n",
       "        0.5975028 ,  0.44192973,  0.6177118 , -1.3226668 ,  0.7007283 ,\n",
       "       -0.02852267,  0.30100235,  0.12116891, -0.7377416 ,  0.95667386,\n",
       "       -0.20225096,  0.68064725,  0.25763842, -0.5061897 ,  0.2710633 ,\n",
       "       -0.520565  , -0.48819035, -0.565973  ,  0.9610595 , -0.26110703,\n",
       "       -0.6578325 ,  0.55782133,  0.7257988 ,  0.02287854,  0.24739912,\n",
       "        0.96820813,  0.46308923,  0.28691357,  0.05858951,  1.2089306 ,\n",
       "       -0.16063157,  0.37067905,  0.14161952,  0.71565473,  0.26421732],\n",
       "      dtype=float32)"
      ]
     },
     "execution_count": 96,
     "metadata": {},
     "output_type": "execute_result"
    }
   ],
   "source": [
    "# get the corresponding vector of a word\n",
    "word_vec = word2vec_model.wv['happy']\n",
    "word_vec"
   ]
  },
  {
   "cell_type": "code",
   "execution_count": 97,
   "id": "ad1424f4",
   "metadata": {},
   "outputs": [
    {
     "data": {
      "text/plain": [
       "[('cats', 0.917853593826294),\n",
       " ('Really', 0.9167478084564209),\n",
       " ('Be', 0.9166775345802307),\n",
       " ('Kik', 0.9159184098243713),\n",
       " ('help', 0.9139007925987244),\n",
       " ('birthday', 0.9131966233253479),\n",
       " ('O', 0.9129994511604309),\n",
       " ('abscess', 0.9081231951713562),\n",
       " ('depress', 0.9044948816299438),\n",
       " ('free', 0.9026293754577637)]"
      ]
     },
     "execution_count": 97,
     "metadata": {},
     "output_type": "execute_result"
    }
   ],
   "source": [
    "# Get the most similar words\n",
    "word = 'happy'\n",
    "topn = 10\n",
    "word2vec_model.wv.most_similar(word, topn=topn)"
   ]
  },
  {
   "cell_type": "code",
   "execution_count": 99,
   "id": "3565d6d6",
   "metadata": {},
   "outputs": [
    {
     "name": "stdout",
     "output_type": "stream",
     "text": [
      "load ok\n"
     ]
    },
    {
     "data": {
      "text/plain": [
       "[('glad', 0.7408890724182129),\n",
       " ('pleased', 0.6632170677185059),\n",
       " ('ecstatic', 0.6626912355422974),\n",
       " ('overjoyed', 0.6599286794662476),\n",
       " ('thrilled', 0.6514049172401428),\n",
       " ('satisfied', 0.6437949538230896),\n",
       " ('proud', 0.636042058467865),\n",
       " ('delighted', 0.6272379159927368),\n",
       " ('disappointed', 0.6269949674606323),\n",
       " ('excited', 0.6247665882110596)]"
      ]
     },
     "execution_count": 99,
     "metadata": {},
     "output_type": "execute_result"
    }
   ],
   "source": [
    "from gensim.models import KeyedVectors\n",
    "\n",
    "## Note: this model is very huge, this will take some time ...\n",
    "model_path = \"D:/Prishika/GoogleNews-vectors-negative300.bin.gz\"\n",
    "w2v_google_model = KeyedVectors.load_word2vec_format(model_path, binary=True)\n",
    "print('load ok')\n",
    "\n",
    "w2v_google_model.most_similar('happy', topn=10)"
   ]
  },
  {
   "cell_type": "code",
   "execution_count": 100,
   "id": "3d47cfd0",
   "metadata": {},
   "outputs": [
    {
     "name": "stdout",
     "output_type": "stream",
     "text": [
      "[===========---------------------------------------] 23.1% 24.2/104.8MB downloaded"
     ]
    },
    {
     "name": "stderr",
     "output_type": "stream",
     "text": [
      "IOPub message rate exceeded.\n",
      "The notebook server will temporarily stop sending output\n",
      "to the client in order to avoid crashing it.\n",
      "To change this limit, set the config variable\n",
      "`--NotebookApp.iopub_msg_rate_limit`.\n",
      "\n",
      "Current values:\n",
      "NotebookApp.iopub_msg_rate_limit=1000.0 (msgs/sec)\n",
      "NotebookApp.rate_limit_window=3.0 (secs)\n",
      "\n"
     ]
    },
    {
     "name": "stdout",
     "output_type": "stream",
     "text": [
      "[======================----------------------------] 45.5% 47.6/104.8MB downloaded"
     ]
    },
    {
     "name": "stderr",
     "output_type": "stream",
     "text": [
      "IOPub message rate exceeded.\n",
      "The notebook server will temporarily stop sending output\n",
      "to the client in order to avoid crashing it.\n",
      "To change this limit, set the config variable\n",
      "`--NotebookApp.iopub_msg_rate_limit`.\n",
      "\n",
      "Current values:\n",
      "NotebookApp.iopub_msg_rate_limit=1000.0 (msgs/sec)\n",
      "NotebookApp.rate_limit_window=3.0 (secs)\n",
      "\n"
     ]
    },
    {
     "name": "stdout",
     "output_type": "stream",
     "text": [
      "[======================================------------] 78.0% 81.7/104.8MB downloaded"
     ]
    },
    {
     "name": "stderr",
     "output_type": "stream",
     "text": [
      "IOPub message rate exceeded.\n",
      "The notebook server will temporarily stop sending output\n",
      "to the client in order to avoid crashing it.\n",
      "To change this limit, set the config variable\n",
      "`--NotebookApp.iopub_msg_rate_limit`.\n",
      "\n",
      "Current values:\n",
      "NotebookApp.iopub_msg_rate_limit=1000.0 (msgs/sec)\n",
      "NotebookApp.rate_limit_window=3.0 (secs)\n",
      "\n"
     ]
    },
    {
     "name": "stdout",
     "output_type": "stream",
     "text": [
      "[==================================================] 100.0% 104.8/104.8MB downloaded\n",
      "load ok\n"
     ]
    },
    {
     "data": {
      "text/plain": [
       "[('birthday', 0.9577818512916565),\n",
       " ('thank', 0.937666654586792),\n",
       " ('welcome', 0.93361496925354),\n",
       " ('love', 0.917618453502655),\n",
       " ('miss', 0.9164499640464783),\n",
       " ('hello', 0.9158352017402649),\n",
       " ('thanks', 0.9150084853172302),\n",
       " ('merry', 0.9053248167037964),\n",
       " ('bless', 0.902732253074646),\n",
       " ('wish', 0.9013165235519409)]"
      ]
     },
     "execution_count": 100,
     "metadata": {},
     "output_type": "execute_result"
    }
   ],
   "source": [
    "import gensim.downloader as api\n",
    "\n",
    "## If you see `SSL: CERTIFICATE_VERIFY_FAILED` error, use this:\n",
    "import ssl\n",
    "import urllib.request\n",
    "ssl._create_default_https_context = ssl._create_unverified_context\n",
    "\n",
    "glove_twitter_25_model = api.load(\"glove-twitter-25\")\n",
    "print('load ok')\n",
    "\n",
    "glove_twitter_25_model.most_similar('happy', topn=10)"
   ]
  },
  {
   "cell_type": "code",
   "execution_count": 101,
   "id": "bf15cb95",
   "metadata": {},
   "outputs": [
    {
     "data": {
      "text/plain": [
       "[('queen', 0.7118193507194519),\n",
       " ('monarch', 0.6189674735069275),\n",
       " ('princess', 0.5902431011199951),\n",
       " ('crown_prince', 0.5499460697174072),\n",
       " ('prince', 0.5377321243286133),\n",
       " ('kings', 0.5236844420433044),\n",
       " ('Queen_Consort', 0.5235945582389832),\n",
       " ('queens', 0.518113374710083),\n",
       " ('sultan', 0.5098593831062317),\n",
       " ('monarchy', 0.5087411999702454)]"
      ]
     },
     "execution_count": 101,
     "metadata": {},
     "output_type": "execute_result"
    }
   ],
   "source": [
    "w2v_google_model.most_similar(positive=['king', 'woman'], negative=['man'])"
   ]
  },
  {
   "cell_type": "markdown",
   "id": "7d2b10d1",
   "metadata": {},
   "source": [
    "##HOME WORK 7##\n",
    "\n",
    "To represent a sentence using word vectors, you can use different aggregation techniques.\n",
    "One common approach is to take the average or weighted average of the word vectors in the sentence \n",
    "to create a single vector representation for the entire sentence. This aggregated vector can then be used \n",
    "as input to your machine learning model. Below are the example code"
   ]
  },
  {
   "cell_type": "code",
   "execution_count": 102,
   "id": "a1f27654",
   "metadata": {},
   "outputs": [
    {
     "name": "stdout",
     "output_type": "stream",
     "text": [
      "[ 2.85962641e-01  5.42322397e-01 -3.58158574e-02  1.12163469e-01\n",
      "  2.46809795e-03 -1.08690298e+00  4.31722403e-01  1.02320743e+00\n",
      " -6.37469172e-01 -4.61586714e-01 -6.03910267e-01 -9.61495876e-01\n",
      "  1.35318369e-01  4.44071889e-01 -1.21781506e-01 -5.21884322e-01\n",
      "  4.79625881e-01  3.26674357e-02  1.64330900e-01 -9.89675164e-01\n",
      "  3.42683464e-01  2.27258176e-01  7.18118966e-01 -2.49889582e-01\n",
      " -1.48767680e-01  6.84486568e-01 -6.30115509e-01  2.18347371e-01\n",
      " -3.50080967e-01  4.85179007e-01  4.45439756e-01  1.52643546e-01\n",
      "  3.19359362e-01 -7.53708899e-01  1.12652019e-01  5.16394079e-01\n",
      "  2.07169622e-01 -1.52637243e-01 -5.31153858e-01 -4.69152182e-01\n",
      "  2.51255482e-01 -1.00561333e+00  3.72244865e-02  5.08795857e-01\n",
      "  5.71098626e-01 -3.30975711e-01 -3.85532439e-01 -7.55054832e-01\n",
      "  3.67021441e-01 -4.16370600e-01  7.32615888e-01 -2.53924608e-01\n",
      " -1.43812537e-01 -2.95810223e-01 -7.69246757e-01  3.53842437e-01\n",
      "  1.61777273e-01 -8.38261917e-02 -4.10218358e-01 -3.80609244e-01\n",
      "  6.31419897e-01 -4.88612652e-01  4.06132221e-01  7.22800791e-01\n",
      " -5.02380610e-01  1.16091549e+00  3.09863567e-01  4.89870399e-01\n",
      " -1.14565670e+00  8.19448948e-01 -2.59791374e-01  2.37016380e-01\n",
      "  3.17184746e-01  6.44877553e-04  1.08794785e+00  6.01867080e-01\n",
      "  1.32208511e-01  5.58327377e-01 -5.24526834e-01  3.45511556e-01\n",
      " -5.59793472e-01 -5.44777393e-01 -7.97152877e-01  4.47571278e-01\n",
      " -3.01750600e-01 -3.05776060e-01  7.08800316e-01  7.19793618e-01\n",
      "  2.25478396e-01  6.87165111e-02  1.03796780e+00  2.51113594e-01\n",
      "  2.03582212e-01  8.80766958e-02  1.35792673e+00 -1.77270800e-01\n",
      "  7.84727097e-01  1.14273876e-01  2.62140691e-01 -4.05874997e-02]\n"
     ]
    }
   ],
   "source": [
    "##HOME WORK 7\n",
    "import numpy as np\n",
    "\n",
    "def get_sentence_vector(words, model, vector_dim):\n",
    "    # Filter words that are present in the Word2Vec model\n",
    "    valid_words = [word for word in words if word in model.wv]\n",
    "    \n",
    "    if not valid_words:\n",
    "        # If no valid words are present, return a zero vector\n",
    "        return np.zeros(vector_dim)\n",
    "    \n",
    "    # Calculate the average of word vectors\n",
    "    word_vectors = [model.wv[word] for word in valid_words]\n",
    "    sentence_vector = np.mean(word_vectors, axis=0)\n",
    "    \n",
    "    return sentence_vector\n",
    "\n",
    "# Example usage:\n",
    "sentence = \"I am feeling happy\"\n",
    "tokenized_sentence = nltk.word_tokenize(sentence.lower())  # Tokenize and lowercase the sentence\n",
    "vector_dim = 100  # Assuming the vector dimensionality is 100 (adjust based on your Word2Vec model)\n",
    "sentence_vector = get_sentence_vector(tokenized_sentence, word2vec_model, vector_dim)\n",
    "print(sentence_vector)\n"
   ]
  },
  {
   "cell_type": "code",
   "execution_count": 103,
   "id": "67bb4038",
   "metadata": {},
   "outputs": [],
   "source": [
    "####HOME WORK 7####\n",
    "\n",
    "import numpy as np\n",
    "import nltk\n",
    "from gensim.models import Word2Vec\n",
    "import pandas as pd\n",
    "\n",
    "# Load the dataset\n",
    "anger_train = pd.read_csv(\"C:/Users/picik/emo/anger-ratings-0to1.train.txt\", sep=\"\\t\", header=None,\n",
    "                         names=[\"id\", \"text\", \"emotion\", \"intensity\"])\n",
    "sadness_train = pd.read_csv(\"C:/Users/picik/emo/sadness-ratings-0to1.train.txt\", sep=\"\\t\", header=None,\n",
    "                           names=[\"id\", \"text\", \"emotion\", \"intensity\"])\n",
    "fear_train = pd.read_csv(\"C:/Users/picik/emo/fear-ratings-0to1.train.txt\", sep=\"\\t\", header=None,\n",
    "                         names=[\"id\", \"text\", \"emotion\", \"intensity\"])\n",
    "joy_train = pd.read_csv(\"C:/Users/picik/emo/joy-ratings-0to1.train.txt\", sep=\"\\t\", header=None,\n",
    "                        names=[\"id\", \"text\", \"emotion\", \"intensity\"])\n",
    "\n",
    "# Combine 4 sub-datasets\n",
    "train_df = pd.concat([anger_train, fear_train, joy_train, sadness_train], ignore_index=True)\n",
    "\n",
    "# Tokenize the text\n",
    "train_df['text_tokenized'] = train_df['text'].apply(lambda x: nltk.word_tokenize(x.lower()))\n",
    "\n",
    "# Assuming you already have the Word2Vec model trained (as 'word2vec_model')\n",
    "vector_dim = 100  # Assuming the vector dimensionality is 100 (adjust based on your Word2Vec model)\n",
    "\n",
    "def get_sentence_vector(words, model, vector_dim):\n",
    "    valid_words = [word for word in words if word in model.wv]\n",
    "    \n",
    "    if not valid_words:\n",
    "        return np.zeros(vector_dim)\n",
    "    \n",
    "    word_vectors = [model.wv[word] for word in valid_words]\n",
    "    sentence_vector = np.mean(word_vectors, axis=0)\n",
    "    \n",
    "    return sentence_vector\n",
    "\n",
    "# Create sentence vectors for the training data\n",
    "train_df['sentence_vector'] = train_df['text_tokenized'].apply(lambda x: get_sentence_vector(x, word2vec_model, vector_dim))\n",
    "\n",
    "# Now, train your model using 'sentence_vector' as input features and 'emotion' as the target variable\n",
    "# You can follow the rest of the code for model training and evaluation as you did before.\n"
   ]
  },
  {
   "cell_type": "code",
   "execution_count": 104,
   "id": "51061296",
   "metadata": {},
   "outputs": [
    {
     "name": "stdout",
     "output_type": "stream",
     "text": [
      "                                                text emotion  \\\n",
      "0  How the fu*k! Who the heck! moved my fridge!.....   anger   \n",
      "1  So my Indian Uber driver just called someone t...   anger   \n",
      "2  @DPD_UK I asked for my parcel to be delivered ...   anger   \n",
      "3  so ef whichever butt wipe pulled the fire alar...   anger   \n",
      "4  Don't join @BTCare they put the phone down on ...   anger   \n",
      "\n",
      "                                     sentence_vector  \n",
      "0  [-0.22534122, 0.2441926, 0.12421109, 0.4978775...  \n",
      "1  [0.13476409, 0.5061328, 0.29929054, 0.30050674...  \n",
      "2  [0.01563104, 0.34072146, 0.18933472, 0.3628895...  \n",
      "3  [-0.55938005, 0.24769682, 0.18300238, 0.578616...  \n",
      "4  [0.082421795, 0.4369494, 0.31861383, 0.5450755...  \n",
      "    epoch  accuracy      loss  val_accuracy  val_loss\n",
      "0       0  0.611680  1.045119      0.651297  0.959706\n",
      "1       1  0.774426  0.612292      0.700288  0.799563\n",
      "2       2  0.839745  0.424587      0.677233  0.781701\n",
      "3       3  0.879601  0.332527      0.674352  0.808169\n",
      "4       4  0.906726  0.266428      0.694524  0.864607\n",
      "5       5  0.928868  0.216787      0.694524  0.905515\n",
      "6       6  0.939109  0.184690      0.680115  0.944432\n",
      "7       7  0.953224  0.153779      0.691643  1.026662\n",
      "8       8  0.960144  0.133066      0.688761  1.059349\n",
      "9       9  0.965679  0.118039      0.682997  1.088436\n",
      "10     10  0.968447  0.109783      0.691643  1.130145\n",
      "11     11  0.969278  0.099811      0.688761  1.197518\n",
      "12     12  0.973429  0.094023      0.680115  1.275541\n",
      "13     13  0.971769  0.091476      0.682997  1.258588\n",
      "14     14  0.973706  0.083453      0.697406  1.260940\n",
      "15     15  0.975090  0.077727      0.680115  1.297240\n",
      "16     16  0.976751  0.073979      0.680115  1.328412\n",
      "17     17  0.974813  0.073421      0.674352  1.360433\n",
      "18     18  0.976751  0.072698      0.685879  1.434264\n",
      "19     19  0.978688  0.068928      0.685879  1.388366\n",
      "20     20  0.977027  0.066270      0.685879  1.391081\n",
      "21     21  0.976751  0.064682      0.682997  1.442729\n",
      "22     22  0.977581  0.067895      0.682997  1.450238\n",
      "23     23  0.977581  0.061463      0.682997  1.438265\n",
      "24     24  0.976197  0.061233      0.680115  1.475844\n"
     ]
    }
   ],
   "source": [
    "#####HOME WORK 7\n",
    "\n",
    "\n",
    "# Display the first few rows of the dataframe\n",
    "print(train_df[['text', 'emotion', 'sentence_vector']].head())\n",
    "\n",
    "# Display the training logs\n",
    "print(training_log)\n"
   ]
  },
  {
   "cell_type": "code",
   "execution_count": 105,
   "id": "12a7fc43",
   "metadata": {},
   "outputs": [
    {
     "name": "stdout",
     "output_type": "stream",
     "text": [
      "target words:  ['happy', 'fear', 'angry', 'car', 'teacher', 'computer']\n"
     ]
    }
   ],
   "source": [
    "# clustering target\n",
    "target_list = ['happy', 'fear', 'angry', 'car', 'teacher', 'computer']\n",
    "print('target words: ', target_list)\n",
    "\n",
    "# convert to word vector\n",
    "X = [word2vec_model.wv[word] for word in target_list]"
   ]
  },
  {
   "cell_type": "code",
   "execution_count": 106,
   "id": "da2484d5",
   "metadata": {},
   "outputs": [
    {
     "name": "stdout",
     "output_type": "stream",
     "text": [
      "word: happy \t cluster: 1\n",
      "word: fear \t cluster: 1\n",
      "word: angry \t cluster: 1\n",
      "word: car \t cluster: 0\n",
      "word: teacher \t cluster: 0\n",
      "word: computer \t cluster: 0\n"
     ]
    }
   ],
   "source": [
    "from sklearn.cluster import KMeans\n",
    "\n",
    "# we have to decide how many cluster (k) we want\n",
    "k = 2\n",
    "\n",
    "# k-means model\n",
    "kmeans_model = KMeans(n_clusters=k)\n",
    "kmeans_model.fit(X)\n",
    "\n",
    "# cluster result\n",
    "cluster_result = kmeans_model.labels_\n",
    "\n",
    "# show\n",
    "for i in range(len(target_list)):\n",
    "    print('word: {} \\t cluster: {}'.format(target_list[i], cluster_result[i]))"
   ]
  },
  {
   "cell_type": "code",
   "execution_count": 107,
   "id": "a82cde7e",
   "metadata": {},
   "outputs": [
    {
     "data": {
      "text/plain": [
       "array([0])"
      ]
     },
     "execution_count": 107,
     "metadata": {},
     "output_type": "execute_result"
    }
   ],
   "source": [
    "#check cluster membership\n",
    "word = 'student'\n",
    "word_vec = word2vec_model.wv[word]\n",
    "kmeans_model.predict([word_vec])"
   ]
  },
  {
   "cell_type": "code",
   "execution_count": 108,
   "id": "615d6800",
   "metadata": {},
   "outputs": [
    {
     "data": {
      "text/plain": [
       "array([1])"
      ]
     },
     "execution_count": 108,
     "metadata": {},
     "output_type": "execute_result"
    }
   ],
   "source": [
    "#check cluster membership\n",
    "word = 'sad'\n",
    "word_vec = word2vec_model.wv[word]\n",
    "kmeans_model.predict([word_vec])"
   ]
  },
  {
   "cell_type": "code",
   "execution_count": 109,
   "id": "3b76ff6f",
   "metadata": {},
   "outputs": [
    {
     "name": "stdout",
     "output_type": "stream",
     "text": [
      "happy_words:  ['happy', 'glad', 'pleased', 'ecstatic', 'overjoyed', 'thrilled']\n",
      "angry_words:  ['angry', 'irate', 'enraged', 'indignant', 'incensed', 'annoyed']\n",
      "data_words:  ['data', 'Data', 'datasets', 'dataset', 'databases', 'statistics']\n",
      "mining_words:  ['mining', 'Mining', 'mines', 'coal_mining', 'mine', 'miner']\n",
      "\n",
      "target words: \n",
      "['happy', 'glad', 'pleased', 'ecstatic', 'overjoyed', 'thrilled', 'angry', 'irate', 'enraged', 'indignant', 'incensed', 'annoyed', 'data', 'Data', 'datasets', 'dataset', 'databases', 'statistics', 'mining', 'Mining', 'mines', 'coal_mining', 'mine', 'miner']\n",
      "\n",
      "color list:\n",
      "['b', 'b', 'b', 'b', 'b', 'b', 'g', 'g', 'g', 'g', 'g', 'g', 'r', 'r', 'r', 'r', 'r', 'r', 'y', 'y', 'y', 'y', 'y', 'y']\n"
     ]
    }
   ],
   "source": [
    "word_list = ['happy', 'angry', 'data', 'mining']\n",
    "\n",
    "topn = 5\n",
    "happy_words = ['happy'] + [word_ for word_, sim_ in w2v_google_model.most_similar('happy', topn=topn)]\n",
    "angry_words = ['angry'] + [word_ for word_, sim_ in w2v_google_model.most_similar('angry', topn=topn)]        \n",
    "data_words = ['data'] + [word_ for word_, sim_ in w2v_google_model.most_similar('data', topn=topn)]        \n",
    "mining_words = ['mining'] + [word_ for word_, sim_ in w2v_google_model.most_similar('mining', topn=topn)]        \n",
    "\n",
    "print('happy_words: ', happy_words)\n",
    "print('angry_words: ', angry_words)\n",
    "print('data_words: ', data_words)\n",
    "print('mining_words: ', mining_words)\n",
    "\n",
    "target_words = happy_words + angry_words + data_words + mining_words\n",
    "print('\\ntarget words: ')\n",
    "print(target_words)\n",
    "\n",
    "print('\\ncolor list:')\n",
    "cn = topn + 1\n",
    "color = ['b'] * cn + ['g'] * cn + ['r'] * cn + ['y'] * cn\n",
    "print(color)"
   ]
  },
  {
   "cell_type": "code",
   "execution_count": 110,
   "id": "8612f851",
   "metadata": {},
   "outputs": [
    {
     "data": {
      "image/png": "[encoded data removed]",
      "text/plain": [
       "<Figure size 862.5x862.5 with 1 Axes>"
      ]
     },
     "metadata": {},
     "output_type": "display_data"
    }
   ],
   "source": [
    "%matplotlib inline\n",
    "import matplotlib.pyplot as plt\n",
    "from sklearn.manifold import TSNE\n",
    "\n",
    "## w2v model\n",
    "model = w2v_google_model\n",
    "\n",
    "## prepare training word vectors\n",
    "size = 200\n",
    "target_size = len(target_words)\n",
    "all_word = list(model.index_to_key)\n",
    "word_train = target_words + all_word[:size]\n",
    "X_train = model[word_train]\n",
    "\n",
    "## t-SNE model\n",
    "tsne = TSNE(n_components=2, metric='cosine', random_state=28)\n",
    "\n",
    "## training\n",
    "X_tsne = tsne.fit_transform(X_train)\n",
    "\n",
    "## plot the result\n",
    "plt.figure(figsize=(7.5, 7.5), dpi=115)\n",
    "plt.scatter(X_tsne[:target_size, 0], X_tsne[:target_size, 1], c=color)\n",
    "for label, x, y in zip(target_words, X_tsne[:target_size, 0], X_tsne[:target_size, 1]):\n",
    "    plt.annotate(label, xy=(x,y), xytext=(0,0),  textcoords='offset points')\n",
    "plt.show()"
   ]
  },
  {
   "cell_type": "markdown",
   "id": "71ed654d",
   "metadata": {},
   "source": [
    "##HOME WORK 8##"
   ]
  },
  {
   "cell_type": "code",
   "execution_count": 111,
   "id": "386c9645",
   "metadata": {
    "scrolled": true
   },
   "outputs": [
    {
     "data": {
      "image/png": "[encoded data removed]",
      "text/plain": [
       "<Figure size 800x800 with 1 Axes>"
      ]
     },
     "metadata": {},
     "output_type": "display_data"
    }
   ],
   "source": [
    "# Words to visualize\n",
    "word_lists = {\n",
    "    'angry': ['angry'] + [word_ for word_, sim_ in w2v_google_model.most_similar('angry', topn=14)],\n",
    "    'happy': ['happy'] + [word_ for word_, sim_ in w2v_google_model.most_similar('happy', topn=14)],\n",
    "    'sad': ['sad'] + [word_ for word_, sim_ in w2v_google_model.most_similar('sad', topn=14)],\n",
    "    'fear': ['fear'] + [word_ for word_, sim_ in w2v_google_model.most_similar('fear', topn=14)],\n",
    "}\n",
    "\n",
    "# Combine all target words\n",
    "target_words = sum(word_lists.values(), [])\n",
    "\n",
    "# Assign colors\n",
    "cn = 15\n",
    "color = ['b'] * cn + ['g'] * cn + ['r'] * cn + ['y'] * cn\n",
    "\n",
    "# Prepare training word vectors\n",
    "size = 200\n",
    "all_word = list(w2v_google_model.index_to_key)\n",
    "word_train = target_words + all_word[:size]\n",
    "X_train = w2v_google_model[word_train]\n",
    "\n",
    "# t-SNE model\n",
    "tsne = TSNE(n_components=2, metric='cosine', random_state=28)\n",
    "\n",
    "# Training\n",
    "X_tsne = tsne.fit_transform(X_train)\n",
    "\n",
    "# Plot the result\n",
    "plt.figure(figsize=(10, 10), dpi=80)\n",
    "plt.scatter(X_tsne[:60, 0], X_tsne[:60, 1], c=color)\n",
    "for label, x, y in zip(target_words, X_tsne[:60, 0], X_tsne[:60, 1]):\n",
    "    plt.annotate(label, xy=(x, y), xytext=(0, 0), textcoords='offset points')\n",
    "\n",
    "plt.title(\"t-SNE Visualization of Word Embeddings\")\n",
    "plt.show()\n"
   ]
  },
  {
   "cell_type": "code",
   "execution_count": null,
   "id": "c5c26e4e",
   "metadata": {},
   "outputs": [],
   "source": []
  },
  {
   "cell_type": "code",
   "execution_count": 113,
   "id": "1d8c4a3d",
   "metadata": {},
   "outputs": [
    {
     "data": {
      "image/png": "[encoded data removed]",
      "text/plain": [
       "<Figure size 800x800 with 1 Axes>"
      ]
     },
     "metadata": {},
     "output_type": "display_data"
    }
   ],
   "source": [
    "# Words to visualize\n",
    "word_lists = {\n",
    "    'angry': ['angry'] + [word_ for word_, sim_ in w2v_google_model.most_similar('angry', topn=14)],\n",
    "    'happy': ['happy'] + [word_ for word_, sim_ in w2v_google_model.most_similar('happy', topn=14)],\n",
    "    'sad': ['sad'] + [word_ for word_, sim_ in w2v_google_model.most_similar('sad', topn=14)],\n",
    "    'fear': ['fear'] + [word_ for word_, sim_ in w2v_google_model.most_similar('fear', topn=14)],\n",
    "}\n",
    "\n",
    "# Combine all target words\n",
    "target_words = sum(word_lists.values(), [])\n",
    "\n",
    "# Assign colors\n",
    "cn = 15\n",
    "color = ['b'] * cn + ['g'] * cn + ['r'] * cn + ['y'] * cn\n",
    "\n",
    "# Prepare training word vectors\n",
    "size = 200\n",
    "all_word = list(w2v_google_model.index_to_key)\n",
    "word_train = target_words + all_word[:size]\n",
    "X_train = w2v_google_model[word_train]\n",
    "\n",
    "# t-SNE model\n",
    "tsne = TSNE(n_components=2, metric='cosine', random_state=28)\n",
    "\n",
    "# Training\n",
    "X_tsne = tsne.fit_transform(X_train)\n",
    "\n",
    "# Plot the result\n",
    "plt.figure(figsize=(10, 10), dpi=80)\n",
    "plt.scatter(X_tsne[:60, 0], X_tsne[:60, 1], c=color)\n",
    "for label, x, y in zip(target_words, X_tsne[:60, 0], X_tsne[:60, 1]):\n",
    "    plt.annotate(label, xy=(x, y), xytext=(0, 0), textcoords='offset points')\n",
    "\n",
    "plt.title(\"t-SNE Visualization of Word Embeddings\")\n",
    "plt.show()\n"
   ]
  },
  {
   "cell_type": "code",
   "execution_count": null,
   "id": "89a8becf",
   "metadata": {},
   "outputs": [],
   "source": []
  }
 ],
 "metadata": {
  "kernelspec": {
   "display_name": "Python 3 (ipykernel)",
   "language": "python",
   "name": "python3"
  },
  "language_info": {
   "codemirror_mode": {
    "name": "ipython",
    "version": 3
   },
   "file_extension": ".py",
   "mimetype": "text/x-python",
   "name": "python",
   "nbconvert_exporter": "python",
   "pygments_lexer": "ipython3",
   "version": "3.9.18"
  }
 },
 "nbformat": 4,
 "nbformat_minor": 5
}
